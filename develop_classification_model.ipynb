{
  "nbformat": 4,
  "nbformat_minor": 0,
  "metadata": {
    "colab": {
      "provenance": []
    },
    "kernelspec": {
      "name": "python3",
      "display_name": "Python 3"
    },
    "language_info": {
      "name": "python"
    }
  },
  "cells": [
    {
      "cell_type": "code",
      "execution_count": 2,
      "metadata": {
        "colab": {
          "base_uri": "https://localhost:8080/",
          "height": 448
        },
        "id": "SIBH_4Fy_tV8",
        "outputId": "392ab2ba-2784-4ae1-f82e-b09d5ca9253c",
        "collapsed": true
      },
      "outputs": [
        {
          "output_type": "execute_result",
          "data": {
            "text/plain": [
              "                     temperature_2m (°C)  relative_humidity_2m (%)  \\\n",
              "time                                                                 \n",
              "2004-01-01 00:00:00                 24.4                        91   \n",
              "2004-01-01 06:00:00                 24.7                        85   \n",
              "2004-01-01 12:00:00                 29.1                        67   \n",
              "2004-01-01 18:00:00                 26.6                        82   \n",
              "2004-01-02 00:00:00                 24.8                        92   \n",
              "\n",
              "                     apparent_temperature (°C)  precipitation (mm)  rain (mm)  \\\n",
              "time                                                                            \n",
              "2004-01-01 00:00:00                       29.1                 0.0        0.0   \n",
              "2004-01-01 06:00:00                       28.7                 0.0        0.0   \n",
              "2004-01-01 12:00:00                       31.7                 0.0        0.0   \n",
              "2004-01-01 18:00:00                       30.3                 0.4        0.4   \n",
              "2004-01-02 00:00:00                       29.6                 0.0        0.0   \n",
              "\n",
              "                     weather_code (wmo code)  cloud_cover (%)  \\\n",
              "time                                                            \n",
              "2004-01-01 00:00:00                        3               99   \n",
              "2004-01-01 06:00:00                        3               99   \n",
              "2004-01-01 12:00:00                        3               86   \n",
              "2004-01-01 18:00:00                       51               91   \n",
              "2004-01-02 00:00:00                        3               98   \n",
              "\n",
              "                     wind_speed_10m (km/h)  wind_direction_10m (°)  \n",
              "time                                                                \n",
              "2004-01-01 00:00:00                    4.4                     305  \n",
              "2004-01-01 06:00:00                    7.2                     307  \n",
              "2004-01-01 12:00:00                   17.3                     272  \n",
              "2004-01-01 18:00:00                   13.9                     260  \n",
              "2004-01-02 00:00:00                    7.0                     282  "
            ],
            "text/html": [
              "\n",
              "  <div id=\"df-b4edbb98-7d18-47b1-82ab-60e3733b6dad\" class=\"colab-df-container\">\n",
              "    <div>\n",
              "<style scoped>\n",
              "    .dataframe tbody tr th:only-of-type {\n",
              "        vertical-align: middle;\n",
              "    }\n",
              "\n",
              "    .dataframe tbody tr th {\n",
              "        vertical-align: top;\n",
              "    }\n",
              "\n",
              "    .dataframe thead th {\n",
              "        text-align: right;\n",
              "    }\n",
              "</style>\n",
              "<table border=\"1\" class=\"dataframe\">\n",
              "  <thead>\n",
              "    <tr style=\"text-align: right;\">\n",
              "      <th></th>\n",
              "      <th>temperature_2m (°C)</th>\n",
              "      <th>relative_humidity_2m (%)</th>\n",
              "      <th>apparent_temperature (°C)</th>\n",
              "      <th>precipitation (mm)</th>\n",
              "      <th>rain (mm)</th>\n",
              "      <th>weather_code (wmo code)</th>\n",
              "      <th>cloud_cover (%)</th>\n",
              "      <th>wind_speed_10m (km/h)</th>\n",
              "      <th>wind_direction_10m (°)</th>\n",
              "    </tr>\n",
              "    <tr>\n",
              "      <th>time</th>\n",
              "      <th></th>\n",
              "      <th></th>\n",
              "      <th></th>\n",
              "      <th></th>\n",
              "      <th></th>\n",
              "      <th></th>\n",
              "      <th></th>\n",
              "      <th></th>\n",
              "      <th></th>\n",
              "    </tr>\n",
              "  </thead>\n",
              "  <tbody>\n",
              "    <tr>\n",
              "      <th>2004-01-01 00:00:00</th>\n",
              "      <td>24.4</td>\n",
              "      <td>91</td>\n",
              "      <td>29.1</td>\n",
              "      <td>0.0</td>\n",
              "      <td>0.0</td>\n",
              "      <td>3</td>\n",
              "      <td>99</td>\n",
              "      <td>4.4</td>\n",
              "      <td>305</td>\n",
              "    </tr>\n",
              "    <tr>\n",
              "      <th>2004-01-01 06:00:00</th>\n",
              "      <td>24.7</td>\n",
              "      <td>85</td>\n",
              "      <td>28.7</td>\n",
              "      <td>0.0</td>\n",
              "      <td>0.0</td>\n",
              "      <td>3</td>\n",
              "      <td>99</td>\n",
              "      <td>7.2</td>\n",
              "      <td>307</td>\n",
              "    </tr>\n",
              "    <tr>\n",
              "      <th>2004-01-01 12:00:00</th>\n",
              "      <td>29.1</td>\n",
              "      <td>67</td>\n",
              "      <td>31.7</td>\n",
              "      <td>0.0</td>\n",
              "      <td>0.0</td>\n",
              "      <td>3</td>\n",
              "      <td>86</td>\n",
              "      <td>17.3</td>\n",
              "      <td>272</td>\n",
              "    </tr>\n",
              "    <tr>\n",
              "      <th>2004-01-01 18:00:00</th>\n",
              "      <td>26.6</td>\n",
              "      <td>82</td>\n",
              "      <td>30.3</td>\n",
              "      <td>0.4</td>\n",
              "      <td>0.4</td>\n",
              "      <td>51</td>\n",
              "      <td>91</td>\n",
              "      <td>13.9</td>\n",
              "      <td>260</td>\n",
              "    </tr>\n",
              "    <tr>\n",
              "      <th>2004-01-02 00:00:00</th>\n",
              "      <td>24.8</td>\n",
              "      <td>92</td>\n",
              "      <td>29.6</td>\n",
              "      <td>0.0</td>\n",
              "      <td>0.0</td>\n",
              "      <td>3</td>\n",
              "      <td>98</td>\n",
              "      <td>7.0</td>\n",
              "      <td>282</td>\n",
              "    </tr>\n",
              "  </tbody>\n",
              "</table>\n",
              "</div>\n",
              "    <div class=\"colab-df-buttons\">\n",
              "\n",
              "  <div class=\"colab-df-container\">\n",
              "    <button class=\"colab-df-convert\" onclick=\"convertToInteractive('df-b4edbb98-7d18-47b1-82ab-60e3733b6dad')\"\n",
              "            title=\"Convert this dataframe to an interactive table.\"\n",
              "            style=\"display:none;\">\n",
              "\n",
              "  <svg xmlns=\"http://www.w3.org/2000/svg\" height=\"24px\" viewBox=\"0 -960 960 960\">\n",
              "    <path d=\"M120-120v-720h720v720H120Zm60-500h600v-160H180v160Zm220 220h160v-160H400v160Zm0 220h160v-160H400v160ZM180-400h160v-160H180v160Zm440 0h160v-160H620v160ZM180-180h160v-160H180v160Zm440 0h160v-160H620v160Z\"/>\n",
              "  </svg>\n",
              "    </button>\n",
              "\n",
              "  <style>\n",
              "    .colab-df-container {\n",
              "      display:flex;\n",
              "      gap: 12px;\n",
              "    }\n",
              "\n",
              "    .colab-df-convert {\n",
              "      background-color: #E8F0FE;\n",
              "      border: none;\n",
              "      border-radius: 50%;\n",
              "      cursor: pointer;\n",
              "      display: none;\n",
              "      fill: #1967D2;\n",
              "      height: 32px;\n",
              "      padding: 0 0 0 0;\n",
              "      width: 32px;\n",
              "    }\n",
              "\n",
              "    .colab-df-convert:hover {\n",
              "      background-color: #E2EBFA;\n",
              "      box-shadow: 0px 1px 2px rgba(60, 64, 67, 0.3), 0px 1px 3px 1px rgba(60, 64, 67, 0.15);\n",
              "      fill: #174EA6;\n",
              "    }\n",
              "\n",
              "    .colab-df-buttons div {\n",
              "      margin-bottom: 4px;\n",
              "    }\n",
              "\n",
              "    [theme=dark] .colab-df-convert {\n",
              "      background-color: #3B4455;\n",
              "      fill: #D2E3FC;\n",
              "    }\n",
              "\n",
              "    [theme=dark] .colab-df-convert:hover {\n",
              "      background-color: #434B5C;\n",
              "      box-shadow: 0px 1px 3px 1px rgba(0, 0, 0, 0.15);\n",
              "      filter: drop-shadow(0px 1px 2px rgba(0, 0, 0, 0.3));\n",
              "      fill: #FFFFFF;\n",
              "    }\n",
              "  </style>\n",
              "\n",
              "    <script>\n",
              "      const buttonEl =\n",
              "        document.querySelector('#df-b4edbb98-7d18-47b1-82ab-60e3733b6dad button.colab-df-convert');\n",
              "      buttonEl.style.display =\n",
              "        google.colab.kernel.accessAllowed ? 'block' : 'none';\n",
              "\n",
              "      async function convertToInteractive(key) {\n",
              "        const element = document.querySelector('#df-b4edbb98-7d18-47b1-82ab-60e3733b6dad');\n",
              "        const dataTable =\n",
              "          await google.colab.kernel.invokeFunction('convertToInteractive',\n",
              "                                                    [key], {});\n",
              "        if (!dataTable) return;\n",
              "\n",
              "        const docLinkHtml = 'Like what you see? Visit the ' +\n",
              "          '<a target=\"_blank\" href=https://colab.research.google.com/notebooks/data_table.ipynb>data table notebook</a>'\n",
              "          + ' to learn more about interactive tables.';\n",
              "        element.innerHTML = '';\n",
              "        dataTable['output_type'] = 'display_data';\n",
              "        await google.colab.output.renderOutput(dataTable, element);\n",
              "        const docLink = document.createElement('div');\n",
              "        docLink.innerHTML = docLinkHtml;\n",
              "        element.appendChild(docLink);\n",
              "      }\n",
              "    </script>\n",
              "  </div>\n",
              "\n",
              "\n",
              "<div id=\"df-4660e338-25db-412b-acc4-0db511dddc04\">\n",
              "  <button class=\"colab-df-quickchart\" onclick=\"quickchart('df-4660e338-25db-412b-acc4-0db511dddc04')\"\n",
              "            title=\"Suggest charts\"\n",
              "            style=\"display:none;\">\n",
              "\n",
              "<svg xmlns=\"http://www.w3.org/2000/svg\" height=\"24px\"viewBox=\"0 0 24 24\"\n",
              "     width=\"24px\">\n",
              "    <g>\n",
              "        <path d=\"M19 3H5c-1.1 0-2 .9-2 2v14c0 1.1.9 2 2 2h14c1.1 0 2-.9 2-2V5c0-1.1-.9-2-2-2zM9 17H7v-7h2v7zm4 0h-2V7h2v10zm4 0h-2v-4h2v4z\"/>\n",
              "    </g>\n",
              "</svg>\n",
              "  </button>\n",
              "\n",
              "<style>\n",
              "  .colab-df-quickchart {\n",
              "      --bg-color: #E8F0FE;\n",
              "      --fill-color: #1967D2;\n",
              "      --hover-bg-color: #E2EBFA;\n",
              "      --hover-fill-color: #174EA6;\n",
              "      --disabled-fill-color: #AAA;\n",
              "      --disabled-bg-color: #DDD;\n",
              "  }\n",
              "\n",
              "  [theme=dark] .colab-df-quickchart {\n",
              "      --bg-color: #3B4455;\n",
              "      --fill-color: #D2E3FC;\n",
              "      --hover-bg-color: #434B5C;\n",
              "      --hover-fill-color: #FFFFFF;\n",
              "      --disabled-bg-color: #3B4455;\n",
              "      --disabled-fill-color: #666;\n",
              "  }\n",
              "\n",
              "  .colab-df-quickchart {\n",
              "    background-color: var(--bg-color);\n",
              "    border: none;\n",
              "    border-radius: 50%;\n",
              "    cursor: pointer;\n",
              "    display: none;\n",
              "    fill: var(--fill-color);\n",
              "    height: 32px;\n",
              "    padding: 0;\n",
              "    width: 32px;\n",
              "  }\n",
              "\n",
              "  .colab-df-quickchart:hover {\n",
              "    background-color: var(--hover-bg-color);\n",
              "    box-shadow: 0 1px 2px rgba(60, 64, 67, 0.3), 0 1px 3px 1px rgba(60, 64, 67, 0.15);\n",
              "    fill: var(--button-hover-fill-color);\n",
              "  }\n",
              "\n",
              "  .colab-df-quickchart-complete:disabled,\n",
              "  .colab-df-quickchart-complete:disabled:hover {\n",
              "    background-color: var(--disabled-bg-color);\n",
              "    fill: var(--disabled-fill-color);\n",
              "    box-shadow: none;\n",
              "  }\n",
              "\n",
              "  .colab-df-spinner {\n",
              "    border: 2px solid var(--fill-color);\n",
              "    border-color: transparent;\n",
              "    border-bottom-color: var(--fill-color);\n",
              "    animation:\n",
              "      spin 1s steps(1) infinite;\n",
              "  }\n",
              "\n",
              "  @keyframes spin {\n",
              "    0% {\n",
              "      border-color: transparent;\n",
              "      border-bottom-color: var(--fill-color);\n",
              "      border-left-color: var(--fill-color);\n",
              "    }\n",
              "    20% {\n",
              "      border-color: transparent;\n",
              "      border-left-color: var(--fill-color);\n",
              "      border-top-color: var(--fill-color);\n",
              "    }\n",
              "    30% {\n",
              "      border-color: transparent;\n",
              "      border-left-color: var(--fill-color);\n",
              "      border-top-color: var(--fill-color);\n",
              "      border-right-color: var(--fill-color);\n",
              "    }\n",
              "    40% {\n",
              "      border-color: transparent;\n",
              "      border-right-color: var(--fill-color);\n",
              "      border-top-color: var(--fill-color);\n",
              "    }\n",
              "    60% {\n",
              "      border-color: transparent;\n",
              "      border-right-color: var(--fill-color);\n",
              "    }\n",
              "    80% {\n",
              "      border-color: transparent;\n",
              "      border-right-color: var(--fill-color);\n",
              "      border-bottom-color: var(--fill-color);\n",
              "    }\n",
              "    90% {\n",
              "      border-color: transparent;\n",
              "      border-bottom-color: var(--fill-color);\n",
              "    }\n",
              "  }\n",
              "</style>\n",
              "\n",
              "  <script>\n",
              "    async function quickchart(key) {\n",
              "      const quickchartButtonEl =\n",
              "        document.querySelector('#' + key + ' button');\n",
              "      quickchartButtonEl.disabled = true;  // To prevent multiple clicks.\n",
              "      quickchartButtonEl.classList.add('colab-df-spinner');\n",
              "      try {\n",
              "        const charts = await google.colab.kernel.invokeFunction(\n",
              "            'suggestCharts', [key], {});\n",
              "      } catch (error) {\n",
              "        console.error('Error during call to suggestCharts:', error);\n",
              "      }\n",
              "      quickchartButtonEl.classList.remove('colab-df-spinner');\n",
              "      quickchartButtonEl.classList.add('colab-df-quickchart-complete');\n",
              "    }\n",
              "    (() => {\n",
              "      let quickchartButtonEl =\n",
              "        document.querySelector('#df-4660e338-25db-412b-acc4-0db511dddc04 button');\n",
              "      quickchartButtonEl.style.display =\n",
              "        google.colab.kernel.accessAllowed ? 'block' : 'none';\n",
              "    })();\n",
              "  </script>\n",
              "</div>\n",
              "\n",
              "    </div>\n",
              "  </div>\n"
            ],
            "application/vnd.google.colaboratory.intrinsic+json": {
              "type": "dataframe",
              "variable_name": "data",
              "summary": "{\n  \"name\": \"data\",\n  \"rows\": 30104,\n  \"fields\": [\n    {\n      \"column\": \"time\",\n      \"properties\": {\n        \"dtype\": \"date\",\n        \"min\": \"2004-01-01 00:00:00\",\n        \"max\": \"2024-08-08 18:00:00\",\n        \"num_unique_values\": 30104,\n        \"samples\": [\n          \"2018-01-31 00:00:00\",\n          \"2022-02-10 06:00:00\",\n          \"2022-03-29 00:00:00\"\n        ],\n        \"semantic_type\": \"\",\n        \"description\": \"\"\n      }\n    },\n    {\n      \"column\": \"temperature_2m (\\u00b0C)\",\n      \"properties\": {\n        \"dtype\": \"number\",\n        \"std\": 2.2864289257584254,\n        \"min\": 20.9,\n        \"max\": 35.9,\n        \"num_unique_values\": 145,\n        \"samples\": [\n          29.6,\n          35.4,\n          23.1\n        ],\n        \"semantic_type\": \"\",\n        \"description\": \"\"\n      }\n    },\n    {\n      \"column\": \"relative_humidity_2m (%)\",\n      \"properties\": {\n        \"dtype\": \"number\",\n        \"std\": 13,\n        \"min\": 25,\n        \"max\": 100,\n        \"num_unique_values\": 76,\n        \"samples\": [\n          92,\n          55,\n          84\n        ],\n        \"semantic_type\": \"\",\n        \"description\": \"\"\n      }\n    },\n    {\n      \"column\": \"apparent_temperature (\\u00b0C)\",\n      \"properties\": {\n        \"dtype\": \"number\",\n        \"std\": 2.428754998032459,\n        \"min\": 22.1,\n        \"max\": 39.5,\n        \"num_unique_values\": 157,\n        \"samples\": [\n          36.5,\n          30.1,\n          37.2\n        ],\n        \"semantic_type\": \"\",\n        \"description\": \"\"\n      }\n    },\n    {\n      \"column\": \"precipitation (mm)\",\n      \"properties\": {\n        \"dtype\": \"number\",\n        \"std\": 3.5203961212888863,\n        \"min\": 0.0,\n        \"max\": 141.8,\n        \"num_unique_values\": 300,\n        \"samples\": [\n          15.9,\n          18.1,\n          19.0\n        ],\n        \"semantic_type\": \"\",\n        \"description\": \"\"\n      }\n    },\n    {\n      \"column\": \"rain (mm)\",\n      \"properties\": {\n        \"dtype\": \"number\",\n        \"std\": 3.5203961212888863,\n        \"min\": 0.0,\n        \"max\": 141.8,\n        \"num_unique_values\": 300,\n        \"samples\": [\n          15.9,\n          18.1,\n          19.0\n        ],\n        \"semantic_type\": \"\",\n        \"description\": \"\"\n      }\n    },\n    {\n      \"column\": \"weather_code (wmo code)\",\n      \"properties\": {\n        \"dtype\": \"number\",\n        \"std\": 25,\n        \"min\": 0,\n        \"max\": 65,\n        \"num_unique_values\": 10,\n        \"samples\": [\n          0,\n          51,\n          61\n        ],\n        \"semantic_type\": \"\",\n        \"description\": \"\"\n      }\n    },\n    {\n      \"column\": \"cloud_cover (%)\",\n      \"properties\": {\n        \"dtype\": \"number\",\n        \"std\": 29,\n        \"min\": 0,\n        \"max\": 100,\n        \"num_unique_values\": 101,\n        \"samples\": [\n          44,\n          74,\n          42\n        ],\n        \"semantic_type\": \"\",\n        \"description\": \"\"\n      }\n    },\n    {\n      \"column\": \"wind_speed_10m (km/h)\",\n      \"properties\": {\n        \"dtype\": \"number\",\n        \"std\": 5.324071383733483,\n        \"min\": 0.0,\n        \"max\": 37.1,\n        \"num_unique_values\": 297,\n        \"samples\": [\n          15.2,\n          22.0,\n          9.4\n        ],\n        \"semantic_type\": \"\",\n        \"description\": \"\"\n      }\n    },\n    {\n      \"column\": \"wind_direction_10m (\\u00b0)\",\n      \"properties\": {\n        \"dtype\": \"number\",\n        \"std\": 78,\n        \"min\": 3,\n        \"max\": 360,\n        \"num_unique_values\": 351,\n        \"samples\": [\n          211,\n          25,\n          89\n        ],\n        \"semantic_type\": \"\",\n        \"description\": \"\"\n      }\n    }\n  ]\n}"
            }
          },
          "metadata": {},
          "execution_count": 2
        }
      ],
      "source": [
        "import numpy as np\n",
        "import pandas as pd\n",
        "# Load dataset\n",
        "data = pd.read_csv('cuaca_data.csv', parse_dates=['time'])\n",
        "data.set_index('time', inplace=True)\n",
        "\n",
        "# Display the first few rows to understand the data structure\n",
        "data.head()\n"
      ]
    },
    {
      "cell_type": "code",
      "source": [
        "data = data.drop(columns=[\"precipitation (mm)\"])"
      ],
      "metadata": {
        "id": "ybmE5HMwATJo"
      },
      "execution_count": 3,
      "outputs": []
    },
    {
      "cell_type": "code",
      "source": [
        "data.head()"
      ],
      "metadata": {
        "colab": {
          "base_uri": "https://localhost:8080/",
          "height": 428
        },
        "id": "tn6AH5BHDDqG",
        "outputId": "db5f7c20-c8e1-4556-8823-d8971259c2a4",
        "collapsed": true
      },
      "execution_count": 4,
      "outputs": [
        {
          "output_type": "execute_result",
          "data": {
            "text/plain": [
              "                     temperature_2m (°C)  relative_humidity_2m (%)  \\\n",
              "time                                                                 \n",
              "2004-01-01 00:00:00                 24.4                        91   \n",
              "2004-01-01 06:00:00                 24.7                        85   \n",
              "2004-01-01 12:00:00                 29.1                        67   \n",
              "2004-01-01 18:00:00                 26.6                        82   \n",
              "2004-01-02 00:00:00                 24.8                        92   \n",
              "\n",
              "                     apparent_temperature (°C)  rain (mm)  \\\n",
              "time                                                        \n",
              "2004-01-01 00:00:00                       29.1        0.0   \n",
              "2004-01-01 06:00:00                       28.7        0.0   \n",
              "2004-01-01 12:00:00                       31.7        0.0   \n",
              "2004-01-01 18:00:00                       30.3        0.4   \n",
              "2004-01-02 00:00:00                       29.6        0.0   \n",
              "\n",
              "                     weather_code (wmo code)  cloud_cover (%)  \\\n",
              "time                                                            \n",
              "2004-01-01 00:00:00                        3               99   \n",
              "2004-01-01 06:00:00                        3               99   \n",
              "2004-01-01 12:00:00                        3               86   \n",
              "2004-01-01 18:00:00                       51               91   \n",
              "2004-01-02 00:00:00                        3               98   \n",
              "\n",
              "                     wind_speed_10m (km/h)  wind_direction_10m (°)  \n",
              "time                                                                \n",
              "2004-01-01 00:00:00                    4.4                     305  \n",
              "2004-01-01 06:00:00                    7.2                     307  \n",
              "2004-01-01 12:00:00                   17.3                     272  \n",
              "2004-01-01 18:00:00                   13.9                     260  \n",
              "2004-01-02 00:00:00                    7.0                     282  "
            ],
            "text/html": [
              "\n",
              "  <div id=\"df-a0706f4c-97da-49ca-89b4-2dc8e27c2d20\" class=\"colab-df-container\">\n",
              "    <div>\n",
              "<style scoped>\n",
              "    .dataframe tbody tr th:only-of-type {\n",
              "        vertical-align: middle;\n",
              "    }\n",
              "\n",
              "    .dataframe tbody tr th {\n",
              "        vertical-align: top;\n",
              "    }\n",
              "\n",
              "    .dataframe thead th {\n",
              "        text-align: right;\n",
              "    }\n",
              "</style>\n",
              "<table border=\"1\" class=\"dataframe\">\n",
              "  <thead>\n",
              "    <tr style=\"text-align: right;\">\n",
              "      <th></th>\n",
              "      <th>temperature_2m (°C)</th>\n",
              "      <th>relative_humidity_2m (%)</th>\n",
              "      <th>apparent_temperature (°C)</th>\n",
              "      <th>rain (mm)</th>\n",
              "      <th>weather_code (wmo code)</th>\n",
              "      <th>cloud_cover (%)</th>\n",
              "      <th>wind_speed_10m (km/h)</th>\n",
              "      <th>wind_direction_10m (°)</th>\n",
              "    </tr>\n",
              "    <tr>\n",
              "      <th>time</th>\n",
              "      <th></th>\n",
              "      <th></th>\n",
              "      <th></th>\n",
              "      <th></th>\n",
              "      <th></th>\n",
              "      <th></th>\n",
              "      <th></th>\n",
              "      <th></th>\n",
              "    </tr>\n",
              "  </thead>\n",
              "  <tbody>\n",
              "    <tr>\n",
              "      <th>2004-01-01 00:00:00</th>\n",
              "      <td>24.4</td>\n",
              "      <td>91</td>\n",
              "      <td>29.1</td>\n",
              "      <td>0.0</td>\n",
              "      <td>3</td>\n",
              "      <td>99</td>\n",
              "      <td>4.4</td>\n",
              "      <td>305</td>\n",
              "    </tr>\n",
              "    <tr>\n",
              "      <th>2004-01-01 06:00:00</th>\n",
              "      <td>24.7</td>\n",
              "      <td>85</td>\n",
              "      <td>28.7</td>\n",
              "      <td>0.0</td>\n",
              "      <td>3</td>\n",
              "      <td>99</td>\n",
              "      <td>7.2</td>\n",
              "      <td>307</td>\n",
              "    </tr>\n",
              "    <tr>\n",
              "      <th>2004-01-01 12:00:00</th>\n",
              "      <td>29.1</td>\n",
              "      <td>67</td>\n",
              "      <td>31.7</td>\n",
              "      <td>0.0</td>\n",
              "      <td>3</td>\n",
              "      <td>86</td>\n",
              "      <td>17.3</td>\n",
              "      <td>272</td>\n",
              "    </tr>\n",
              "    <tr>\n",
              "      <th>2004-01-01 18:00:00</th>\n",
              "      <td>26.6</td>\n",
              "      <td>82</td>\n",
              "      <td>30.3</td>\n",
              "      <td>0.4</td>\n",
              "      <td>51</td>\n",
              "      <td>91</td>\n",
              "      <td>13.9</td>\n",
              "      <td>260</td>\n",
              "    </tr>\n",
              "    <tr>\n",
              "      <th>2004-01-02 00:00:00</th>\n",
              "      <td>24.8</td>\n",
              "      <td>92</td>\n",
              "      <td>29.6</td>\n",
              "      <td>0.0</td>\n",
              "      <td>3</td>\n",
              "      <td>98</td>\n",
              "      <td>7.0</td>\n",
              "      <td>282</td>\n",
              "    </tr>\n",
              "  </tbody>\n",
              "</table>\n",
              "</div>\n",
              "    <div class=\"colab-df-buttons\">\n",
              "\n",
              "  <div class=\"colab-df-container\">\n",
              "    <button class=\"colab-df-convert\" onclick=\"convertToInteractive('df-a0706f4c-97da-49ca-89b4-2dc8e27c2d20')\"\n",
              "            title=\"Convert this dataframe to an interactive table.\"\n",
              "            style=\"display:none;\">\n",
              "\n",
              "  <svg xmlns=\"http://www.w3.org/2000/svg\" height=\"24px\" viewBox=\"0 -960 960 960\">\n",
              "    <path d=\"M120-120v-720h720v720H120Zm60-500h600v-160H180v160Zm220 220h160v-160H400v160Zm0 220h160v-160H400v160ZM180-400h160v-160H180v160Zm440 0h160v-160H620v160ZM180-180h160v-160H180v160Zm440 0h160v-160H620v160Z\"/>\n",
              "  </svg>\n",
              "    </button>\n",
              "\n",
              "  <style>\n",
              "    .colab-df-container {\n",
              "      display:flex;\n",
              "      gap: 12px;\n",
              "    }\n",
              "\n",
              "    .colab-df-convert {\n",
              "      background-color: #E8F0FE;\n",
              "      border: none;\n",
              "      border-radius: 50%;\n",
              "      cursor: pointer;\n",
              "      display: none;\n",
              "      fill: #1967D2;\n",
              "      height: 32px;\n",
              "      padding: 0 0 0 0;\n",
              "      width: 32px;\n",
              "    }\n",
              "\n",
              "    .colab-df-convert:hover {\n",
              "      background-color: #E2EBFA;\n",
              "      box-shadow: 0px 1px 2px rgba(60, 64, 67, 0.3), 0px 1px 3px 1px rgba(60, 64, 67, 0.15);\n",
              "      fill: #174EA6;\n",
              "    }\n",
              "\n",
              "    .colab-df-buttons div {\n",
              "      margin-bottom: 4px;\n",
              "    }\n",
              "\n",
              "    [theme=dark] .colab-df-convert {\n",
              "      background-color: #3B4455;\n",
              "      fill: #D2E3FC;\n",
              "    }\n",
              "\n",
              "    [theme=dark] .colab-df-convert:hover {\n",
              "      background-color: #434B5C;\n",
              "      box-shadow: 0px 1px 3px 1px rgba(0, 0, 0, 0.15);\n",
              "      filter: drop-shadow(0px 1px 2px rgba(0, 0, 0, 0.3));\n",
              "      fill: #FFFFFF;\n",
              "    }\n",
              "  </style>\n",
              "\n",
              "    <script>\n",
              "      const buttonEl =\n",
              "        document.querySelector('#df-a0706f4c-97da-49ca-89b4-2dc8e27c2d20 button.colab-df-convert');\n",
              "      buttonEl.style.display =\n",
              "        google.colab.kernel.accessAllowed ? 'block' : 'none';\n",
              "\n",
              "      async function convertToInteractive(key) {\n",
              "        const element = document.querySelector('#df-a0706f4c-97da-49ca-89b4-2dc8e27c2d20');\n",
              "        const dataTable =\n",
              "          await google.colab.kernel.invokeFunction('convertToInteractive',\n",
              "                                                    [key], {});\n",
              "        if (!dataTable) return;\n",
              "\n",
              "        const docLinkHtml = 'Like what you see? Visit the ' +\n",
              "          '<a target=\"_blank\" href=https://colab.research.google.com/notebooks/data_table.ipynb>data table notebook</a>'\n",
              "          + ' to learn more about interactive tables.';\n",
              "        element.innerHTML = '';\n",
              "        dataTable['output_type'] = 'display_data';\n",
              "        await google.colab.output.renderOutput(dataTable, element);\n",
              "        const docLink = document.createElement('div');\n",
              "        docLink.innerHTML = docLinkHtml;\n",
              "        element.appendChild(docLink);\n",
              "      }\n",
              "    </script>\n",
              "  </div>\n",
              "\n",
              "\n",
              "<div id=\"df-415f78b3-540f-43f9-a2e2-fce239679154\">\n",
              "  <button class=\"colab-df-quickchart\" onclick=\"quickchart('df-415f78b3-540f-43f9-a2e2-fce239679154')\"\n",
              "            title=\"Suggest charts\"\n",
              "            style=\"display:none;\">\n",
              "\n",
              "<svg xmlns=\"http://www.w3.org/2000/svg\" height=\"24px\"viewBox=\"0 0 24 24\"\n",
              "     width=\"24px\">\n",
              "    <g>\n",
              "        <path d=\"M19 3H5c-1.1 0-2 .9-2 2v14c0 1.1.9 2 2 2h14c1.1 0 2-.9 2-2V5c0-1.1-.9-2-2-2zM9 17H7v-7h2v7zm4 0h-2V7h2v10zm4 0h-2v-4h2v4z\"/>\n",
              "    </g>\n",
              "</svg>\n",
              "  </button>\n",
              "\n",
              "<style>\n",
              "  .colab-df-quickchart {\n",
              "      --bg-color: #E8F0FE;\n",
              "      --fill-color: #1967D2;\n",
              "      --hover-bg-color: #E2EBFA;\n",
              "      --hover-fill-color: #174EA6;\n",
              "      --disabled-fill-color: #AAA;\n",
              "      --disabled-bg-color: #DDD;\n",
              "  }\n",
              "\n",
              "  [theme=dark] .colab-df-quickchart {\n",
              "      --bg-color: #3B4455;\n",
              "      --fill-color: #D2E3FC;\n",
              "      --hover-bg-color: #434B5C;\n",
              "      --hover-fill-color: #FFFFFF;\n",
              "      --disabled-bg-color: #3B4455;\n",
              "      --disabled-fill-color: #666;\n",
              "  }\n",
              "\n",
              "  .colab-df-quickchart {\n",
              "    background-color: var(--bg-color);\n",
              "    border: none;\n",
              "    border-radius: 50%;\n",
              "    cursor: pointer;\n",
              "    display: none;\n",
              "    fill: var(--fill-color);\n",
              "    height: 32px;\n",
              "    padding: 0;\n",
              "    width: 32px;\n",
              "  }\n",
              "\n",
              "  .colab-df-quickchart:hover {\n",
              "    background-color: var(--hover-bg-color);\n",
              "    box-shadow: 0 1px 2px rgba(60, 64, 67, 0.3), 0 1px 3px 1px rgba(60, 64, 67, 0.15);\n",
              "    fill: var(--button-hover-fill-color);\n",
              "  }\n",
              "\n",
              "  .colab-df-quickchart-complete:disabled,\n",
              "  .colab-df-quickchart-complete:disabled:hover {\n",
              "    background-color: var(--disabled-bg-color);\n",
              "    fill: var(--disabled-fill-color);\n",
              "    box-shadow: none;\n",
              "  }\n",
              "\n",
              "  .colab-df-spinner {\n",
              "    border: 2px solid var(--fill-color);\n",
              "    border-color: transparent;\n",
              "    border-bottom-color: var(--fill-color);\n",
              "    animation:\n",
              "      spin 1s steps(1) infinite;\n",
              "  }\n",
              "\n",
              "  @keyframes spin {\n",
              "    0% {\n",
              "      border-color: transparent;\n",
              "      border-bottom-color: var(--fill-color);\n",
              "      border-left-color: var(--fill-color);\n",
              "    }\n",
              "    20% {\n",
              "      border-color: transparent;\n",
              "      border-left-color: var(--fill-color);\n",
              "      border-top-color: var(--fill-color);\n",
              "    }\n",
              "    30% {\n",
              "      border-color: transparent;\n",
              "      border-left-color: var(--fill-color);\n",
              "      border-top-color: var(--fill-color);\n",
              "      border-right-color: var(--fill-color);\n",
              "    }\n",
              "    40% {\n",
              "      border-color: transparent;\n",
              "      border-right-color: var(--fill-color);\n",
              "      border-top-color: var(--fill-color);\n",
              "    }\n",
              "    60% {\n",
              "      border-color: transparent;\n",
              "      border-right-color: var(--fill-color);\n",
              "    }\n",
              "    80% {\n",
              "      border-color: transparent;\n",
              "      border-right-color: var(--fill-color);\n",
              "      border-bottom-color: var(--fill-color);\n",
              "    }\n",
              "    90% {\n",
              "      border-color: transparent;\n",
              "      border-bottom-color: var(--fill-color);\n",
              "    }\n",
              "  }\n",
              "</style>\n",
              "\n",
              "  <script>\n",
              "    async function quickchart(key) {\n",
              "      const quickchartButtonEl =\n",
              "        document.querySelector('#' + key + ' button');\n",
              "      quickchartButtonEl.disabled = true;  // To prevent multiple clicks.\n",
              "      quickchartButtonEl.classList.add('colab-df-spinner');\n",
              "      try {\n",
              "        const charts = await google.colab.kernel.invokeFunction(\n",
              "            'suggestCharts', [key], {});\n",
              "      } catch (error) {\n",
              "        console.error('Error during call to suggestCharts:', error);\n",
              "      }\n",
              "      quickchartButtonEl.classList.remove('colab-df-spinner');\n",
              "      quickchartButtonEl.classList.add('colab-df-quickchart-complete');\n",
              "    }\n",
              "    (() => {\n",
              "      let quickchartButtonEl =\n",
              "        document.querySelector('#df-415f78b3-540f-43f9-a2e2-fce239679154 button');\n",
              "      quickchartButtonEl.style.display =\n",
              "        google.colab.kernel.accessAllowed ? 'block' : 'none';\n",
              "    })();\n",
              "  </script>\n",
              "</div>\n",
              "\n",
              "    </div>\n",
              "  </div>\n"
            ],
            "application/vnd.google.colaboratory.intrinsic+json": {
              "type": "dataframe",
              "variable_name": "data",
              "summary": "{\n  \"name\": \"data\",\n  \"rows\": 30104,\n  \"fields\": [\n    {\n      \"column\": \"time\",\n      \"properties\": {\n        \"dtype\": \"date\",\n        \"min\": \"2004-01-01 00:00:00\",\n        \"max\": \"2024-08-08 18:00:00\",\n        \"num_unique_values\": 30104,\n        \"samples\": [\n          \"2018-01-31 00:00:00\",\n          \"2022-02-10 06:00:00\",\n          \"2022-03-29 00:00:00\"\n        ],\n        \"semantic_type\": \"\",\n        \"description\": \"\"\n      }\n    },\n    {\n      \"column\": \"temperature_2m (\\u00b0C)\",\n      \"properties\": {\n        \"dtype\": \"number\",\n        \"std\": 2.2864289257584254,\n        \"min\": 20.9,\n        \"max\": 35.9,\n        \"num_unique_values\": 145,\n        \"samples\": [\n          29.6,\n          35.4,\n          23.1\n        ],\n        \"semantic_type\": \"\",\n        \"description\": \"\"\n      }\n    },\n    {\n      \"column\": \"relative_humidity_2m (%)\",\n      \"properties\": {\n        \"dtype\": \"number\",\n        \"std\": 13,\n        \"min\": 25,\n        \"max\": 100,\n        \"num_unique_values\": 76,\n        \"samples\": [\n          92,\n          55,\n          84\n        ],\n        \"semantic_type\": \"\",\n        \"description\": \"\"\n      }\n    },\n    {\n      \"column\": \"apparent_temperature (\\u00b0C)\",\n      \"properties\": {\n        \"dtype\": \"number\",\n        \"std\": 2.428754998032459,\n        \"min\": 22.1,\n        \"max\": 39.5,\n        \"num_unique_values\": 157,\n        \"samples\": [\n          36.5,\n          30.1,\n          37.2\n        ],\n        \"semantic_type\": \"\",\n        \"description\": \"\"\n      }\n    },\n    {\n      \"column\": \"rain (mm)\",\n      \"properties\": {\n        \"dtype\": \"number\",\n        \"std\": 3.5203961212888863,\n        \"min\": 0.0,\n        \"max\": 141.8,\n        \"num_unique_values\": 300,\n        \"samples\": [\n          15.9,\n          18.1,\n          19.0\n        ],\n        \"semantic_type\": \"\",\n        \"description\": \"\"\n      }\n    },\n    {\n      \"column\": \"weather_code (wmo code)\",\n      \"properties\": {\n        \"dtype\": \"number\",\n        \"std\": 25,\n        \"min\": 0,\n        \"max\": 65,\n        \"num_unique_values\": 10,\n        \"samples\": [\n          0,\n          51,\n          61\n        ],\n        \"semantic_type\": \"\",\n        \"description\": \"\"\n      }\n    },\n    {\n      \"column\": \"cloud_cover (%)\",\n      \"properties\": {\n        \"dtype\": \"number\",\n        \"std\": 29,\n        \"min\": 0,\n        \"max\": 100,\n        \"num_unique_values\": 101,\n        \"samples\": [\n          44,\n          74,\n          42\n        ],\n        \"semantic_type\": \"\",\n        \"description\": \"\"\n      }\n    },\n    {\n      \"column\": \"wind_speed_10m (km/h)\",\n      \"properties\": {\n        \"dtype\": \"number\",\n        \"std\": 5.324071383733483,\n        \"min\": 0.0,\n        \"max\": 37.1,\n        \"num_unique_values\": 297,\n        \"samples\": [\n          15.2,\n          22.0,\n          9.4\n        ],\n        \"semantic_type\": \"\",\n        \"description\": \"\"\n      }\n    },\n    {\n      \"column\": \"wind_direction_10m (\\u00b0)\",\n      \"properties\": {\n        \"dtype\": \"number\",\n        \"std\": 78,\n        \"min\": 3,\n        \"max\": 360,\n        \"num_unique_values\": 351,\n        \"samples\": [\n          211,\n          25,\n          89\n        ],\n        \"semantic_type\": \"\",\n        \"description\": \"\"\n      }\n    }\n  ]\n}"
            }
          },
          "metadata": {},
          "execution_count": 4
        }
      ]
    },
    {
      "cell_type": "code",
      "source": [
        "import pandas as pd\n",
        "import numpy as np\n",
        "from sklearn.model_selection import train_test_split\n",
        "from sklearn.metrics import classification_report, accuracy_score\n",
        "from sklearn.preprocessing import StandardScaler"
      ],
      "metadata": {
        "id": "9CgW29unAW4e"
      },
      "execution_count": 5,
      "outputs": []
    },
    {
      "cell_type": "code",
      "source": [
        "# Kolom input dan target\n",
        "input_features = [\n",
        "    'temperature_2m (°C)', 'relative_humidity_2m (%)',\n",
        "    'apparent_temperature (°C)', 'rain (mm)', 'cloud_cover (%)', 'wind_speed_10m (km/h)',\n",
        "    'wind_direction_10m (°)'\n",
        "]\n",
        "target = 'weather_code (wmo code)'"
      ],
      "metadata": {
        "id": "9VH7CWHkAa__"
      },
      "execution_count": 6,
      "outputs": []
    },
    {
      "cell_type": "code",
      "source": [
        "# Pastikan hanya nilai kategori yang valid\n",
        "valid_weather_codes = [0, 1, 2, 3, 51, 53, 55, 61, 63, 65]"
      ],
      "metadata": {
        "id": "Cc0eBUC9Ad8f"
      },
      "execution_count": 7,
      "outputs": []
    },
    {
      "cell_type": "code",
      "source": [
        "# Pisahkan fitur (X) dan target (y)\n",
        "X = data[input_features]\n",
        "y = data[target]"
      ],
      "metadata": {
        "id": "CVHvjf_6AfZ_"
      },
      "execution_count": 8,
      "outputs": []
    },
    {
      "cell_type": "code",
      "source": [
        "# Hapus data yang memiliki target tidak valid (jika ada)\n",
        "data_cleaned = data[data[target].isin(valid_weather_codes)]"
      ],
      "metadata": {
        "id": "47PUaK-QAiNn"
      },
      "execution_count": 9,
      "outputs": []
    },
    {
      "cell_type": "code",
      "source": [
        "# Pisahkan kembali X dan y\n",
        "X_cleaned = data_cleaned[input_features]\n",
        "y_cleaned = data_cleaned[target]"
      ],
      "metadata": {
        "id": "8Rnzks6eAjX-"
      },
      "execution_count": 10,
      "outputs": []
    },
    {
      "cell_type": "code",
      "source": [
        "print(f\"Dimensi X (Input): {X_cleaned.shape}\")\n",
        "print(f\"Dimensi y (Target): {y_cleaned.shape}\")"
      ],
      "metadata": {
        "colab": {
          "base_uri": "https://localhost:8080/"
        },
        "id": "jWwxTnDkAlQ2",
        "outputId": "cdd94051-960c-4821-eee4-b55cc2c1d849"
      },
      "execution_count": 11,
      "outputs": [
        {
          "output_type": "stream",
          "name": "stdout",
          "text": [
            "Dimensi X (Input): (30104, 7)\n",
            "Dimensi y (Target): (30104,)\n"
          ]
        }
      ]
    },
    {
      "cell_type": "code",
      "source": [
        "\n",
        "from tensorflow.keras.utils import to_categorical\n",
        "# Convert target to one-hot encoding\n",
        "y_cleaned_categorical = to_categorical(y_cleaned)"
      ],
      "metadata": {
        "id": "lejYa6peAnf-"
      },
      "execution_count": 12,
      "outputs": []
    },
    {
      "cell_type": "code",
      "source": [
        "# Scale features\n",
        "scaler = StandardScaler()\n",
        "X_scaled = scaler.fit_transform(X_cleaned)"
      ],
      "metadata": {
        "id": "sQl5dGOsA9JB"
      },
      "execution_count": 13,
      "outputs": []
    },
    {
      "cell_type": "code",
      "source": [
        "# Split dataset\n",
        "X_train, X_test, y_train, y_test = train_test_split(X_scaled, y_cleaned_categorical, test_size=0.2, random_state=42, stratify=y_cleaned_categorical)"
      ],
      "metadata": {
        "id": "-YZXnR9-BAEW"
      },
      "execution_count": 14,
      "outputs": []
    },
    {
      "cell_type": "code",
      "source": [
        "# Periksa distribusi kelas\n",
        "print(\"Distribusi kelas di data latih:\")\n",
        "print(np.sum(y_train, axis=0))  # Jika one-hot encoded\n",
        "print(\"Distribusi kelas di data uji:\")\n",
        "print(np.sum(y_test, axis=0))   # Jika one-hot encoded"
      ],
      "metadata": {
        "colab": {
          "base_uri": "https://localhost:8080/"
        },
        "id": "W6gQZ5NeBCb2",
        "outputId": "fd478e46-8a06-47a4-fd9d-0d79f9c7c003",
        "collapsed": true
      },
      "execution_count": 15,
      "outputs": [
        {
          "output_type": "stream",
          "name": "stdout",
          "text": [
            "Distribusi kelas di data latih:\n",
            "[1749. 2119. 2014. 5494.    0.    0.    0.    0.    0.    0.    0.    0.\n",
            "    0.    0.    0.    0.    0.    0.    0.    0.    0.    0.    0.    0.\n",
            "    0.    0.    0.    0.    0.    0.    0.    0.    0.    0.    0.    0.\n",
            "    0.    0.    0.    0.    0.    0.    0.    0.    0.    0.    0.    0.\n",
            "    0.    0.    0. 9326.    0. 1877.    0.  540.    0.    0.    0.    0.\n",
            "    0.  723.    0.  230.    0.   11.]\n",
            "Distribusi kelas di data uji:\n",
            "[ 437.  530.  504. 1373.    0.    0.    0.    0.    0.    0.    0.    0.\n",
            "    0.    0.    0.    0.    0.    0.    0.    0.    0.    0.    0.    0.\n",
            "    0.    0.    0.    0.    0.    0.    0.    0.    0.    0.    0.    0.\n",
            "    0.    0.    0.    0.    0.    0.    0.    0.    0.    0.    0.    0.\n",
            "    0.    0.    0. 2332.    0.  469.    0.  135.    0.    0.    0.    0.\n",
            "    0.  181.    0.   57.    0.    3.]\n"
          ]
        }
      ]
    },
    {
      "cell_type": "code",
      "source": [
        "# Print dataset dimensions\n",
        "print(f\"Jumlah data training: {X_train.shape[0]}\")\n",
        "print(f\"Jumlah data testing: {X_test.shape[0]}\")"
      ],
      "metadata": {
        "colab": {
          "base_uri": "https://localhost:8080/"
        },
        "id": "6sPRhLdHBipW",
        "outputId": "8ca38df3-2095-47e2-d518-db8ed548b969"
      },
      "execution_count": 16,
      "outputs": [
        {
          "output_type": "stream",
          "name": "stdout",
          "text": [
            "Jumlah data training: 24083\n",
            "Jumlah data testing: 6021\n"
          ]
        }
      ]
    },
    {
      "cell_type": "code",
      "source": [
        "# Build ANN model\n",
        "from tensorflow.keras.layers import Dense\n",
        "from tensorflow.keras.models import Sequential\n",
        "model = Sequential([\n",
        "    Dense(128, activation='relu', input_dim=X_train.shape[1]),  # Hidden layer 1\n",
        "    Dense(64, activation='relu'),                              # Hidden layer 2\n",
        "    Dense(y_train.shape[1], activation='softmax')              # Output layer (10 classes)\n",
        "])"
      ],
      "metadata": {
        "colab": {
          "base_uri": "https://localhost:8080/"
        },
        "id": "D4PXLeVJBogu",
        "outputId": "8ff017a6-e83c-4715-f7c0-26ce0fba8cdb"
      },
      "execution_count": 17,
      "outputs": [
        {
          "output_type": "stream",
          "name": "stderr",
          "text": [
            "/usr/local/lib/python3.10/dist-packages/keras/src/layers/core/dense.py:87: UserWarning: Do not pass an `input_shape`/`input_dim` argument to a layer. When using Sequential models, prefer using an `Input(shape)` object as the first layer in the model instead.\n",
            "  super().__init__(activity_regularizer=activity_regularizer, **kwargs)\n"
          ]
        }
      ]
    },
    {
      "cell_type": "code",
      "source": [
        "# Compile the model\n",
        "model.compile(optimizer='adam', loss='categorical_crossentropy', metrics=['accuracy'])"
      ],
      "metadata": {
        "id": "jNY0XwthB1B-"
      },
      "execution_count": 18,
      "outputs": []
    },
    {
      "cell_type": "code",
      "source": [
        "# Train the model\n",
        "model.fit(X_train, y_train, epochs=20, batch_size=32, validation_split=0.2)"
      ],
      "metadata": {
        "colab": {
          "base_uri": "https://localhost:8080/"
        },
        "collapsed": true,
        "id": "tGUdKS8uB2ZW",
        "outputId": "2770a72c-1ead-4f6c-9e48-597ea954bc95"
      },
      "execution_count": 19,
      "outputs": [
        {
          "output_type": "stream",
          "name": "stdout",
          "text": [
            "Epoch 1/20\n",
            "\u001b[1m603/603\u001b[0m \u001b[32m━━━━━━━━━━━━━━━━━━━━\u001b[0m\u001b[37m\u001b[0m \u001b[1m3s\u001b[0m 3ms/step - accuracy: 0.5486 - loss: 1.5662 - val_accuracy: 0.8184 - val_loss: 0.4982\n",
            "Epoch 2/20\n",
            "\u001b[1m603/603\u001b[0m \u001b[32m━━━━━━━━━━━━━━━━━━━━\u001b[0m\u001b[37m\u001b[0m \u001b[1m1s\u001b[0m 2ms/step - accuracy: 0.8384 - loss: 0.4392 - val_accuracy: 0.8725 - val_loss: 0.3214\n",
            "Epoch 3/20\n",
            "\u001b[1m603/603\u001b[0m \u001b[32m━━━━━━━━━━━━━━━━━━━━\u001b[0m\u001b[37m\u001b[0m \u001b[1m1s\u001b[0m 2ms/step - accuracy: 0.9008 - loss: 0.2894 - val_accuracy: 0.9109 - val_loss: 0.2473\n",
            "Epoch 4/20\n",
            "\u001b[1m603/603\u001b[0m \u001b[32m━━━━━━━━━━━━━━━━━━━━\u001b[0m\u001b[37m\u001b[0m \u001b[1m4s\u001b[0m 4ms/step - accuracy: 0.9227 - loss: 0.2233 - val_accuracy: 0.9415 - val_loss: 0.1854\n",
            "Epoch 5/20\n",
            "\u001b[1m603/603\u001b[0m \u001b[32m━━━━━━━━━━━━━━━━━━━━\u001b[0m\u001b[37m\u001b[0m \u001b[1m3s\u001b[0m 4ms/step - accuracy: 0.9393 - loss: 0.1783 - val_accuracy: 0.9336 - val_loss: 0.1592\n",
            "Epoch 6/20\n",
            "\u001b[1m603/603\u001b[0m \u001b[32m━━━━━━━━━━━━━━━━━━━━\u001b[0m\u001b[37m\u001b[0m \u001b[1m4s\u001b[0m 3ms/step - accuracy: 0.9498 - loss: 0.1493 - val_accuracy: 0.9591 - val_loss: 0.1305\n",
            "Epoch 7/20\n",
            "\u001b[1m603/603\u001b[0m \u001b[32m━━━━━━━━━━━━━━━━━━━━\u001b[0m\u001b[37m\u001b[0m \u001b[1m3s\u001b[0m 3ms/step - accuracy: 0.9615 - loss: 0.1219 - val_accuracy: 0.9630 - val_loss: 0.1061\n",
            "Epoch 8/20\n",
            "\u001b[1m603/603\u001b[0m \u001b[32m━━━━━━━━━━━━━━━━━━━━\u001b[0m\u001b[37m\u001b[0m \u001b[1m3s\u001b[0m 3ms/step - accuracy: 0.9629 - loss: 0.1181 - val_accuracy: 0.9483 - val_loss: 0.1261\n",
            "Epoch 9/20\n",
            "\u001b[1m603/603\u001b[0m \u001b[32m━━━━━━━━━━━━━━━━━━━━\u001b[0m\u001b[37m\u001b[0m \u001b[1m2s\u001b[0m 3ms/step - accuracy: 0.9688 - loss: 0.0932 - val_accuracy: 0.9701 - val_loss: 0.0882\n",
            "Epoch 10/20\n",
            "\u001b[1m603/603\u001b[0m \u001b[32m━━━━━━━━━━━━━━━━━━━━\u001b[0m\u001b[37m\u001b[0m \u001b[1m3s\u001b[0m 4ms/step - accuracy: 0.9735 - loss: 0.0828 - val_accuracy: 0.9770 - val_loss: 0.0731\n",
            "Epoch 11/20\n",
            "\u001b[1m603/603\u001b[0m \u001b[32m━━━━━━━━━━━━━━━━━━━━\u001b[0m\u001b[37m\u001b[0m \u001b[1m2s\u001b[0m 3ms/step - accuracy: 0.9785 - loss: 0.0703 - val_accuracy: 0.9240 - val_loss: 0.1592\n",
            "Epoch 12/20\n",
            "\u001b[1m603/603\u001b[0m \u001b[32m━━━━━━━━━━━━━━━━━━━━\u001b[0m\u001b[37m\u001b[0m \u001b[1m3s\u001b[0m 3ms/step - accuracy: 0.9626 - loss: 0.1297 - val_accuracy: 0.9741 - val_loss: 0.0872\n",
            "Epoch 13/20\n",
            "\u001b[1m603/603\u001b[0m \u001b[32m━━━━━━━━━━━━━━━━━━━━\u001b[0m\u001b[37m\u001b[0m \u001b[1m2s\u001b[0m 2ms/step - accuracy: 0.9803 - loss: 0.0629 - val_accuracy: 0.9726 - val_loss: 0.0663\n",
            "Epoch 14/20\n",
            "\u001b[1m603/603\u001b[0m \u001b[32m━━━━━━━━━━━━━━━━━━━━\u001b[0m\u001b[37m\u001b[0m \u001b[1m3s\u001b[0m 4ms/step - accuracy: 0.9823 - loss: 0.0552 - val_accuracy: 0.9828 - val_loss: 0.0614\n",
            "Epoch 15/20\n",
            "\u001b[1m603/603\u001b[0m \u001b[32m━━━━━━━━━━━━━━━━━━━━\u001b[0m\u001b[37m\u001b[0m \u001b[1m3s\u001b[0m 5ms/step - accuracy: 0.9825 - loss: 0.0552 - val_accuracy: 0.9838 - val_loss: 0.0494\n",
            "Epoch 16/20\n",
            "\u001b[1m603/603\u001b[0m \u001b[32m━━━━━━━━━━━━━━━━━━━━\u001b[0m\u001b[37m\u001b[0m \u001b[1m2s\u001b[0m 3ms/step - accuracy: 0.9845 - loss: 0.0454 - val_accuracy: 0.9819 - val_loss: 0.0485\n",
            "Epoch 17/20\n",
            "\u001b[1m603/603\u001b[0m \u001b[32m━━━━━━━━━━━━━━━━━━━━\u001b[0m\u001b[37m\u001b[0m \u001b[1m2s\u001b[0m 3ms/step - accuracy: 0.9845 - loss: 0.0455 - val_accuracy: 0.9767 - val_loss: 0.0647\n",
            "Epoch 18/20\n",
            "\u001b[1m603/603\u001b[0m \u001b[32m━━━━━━━━━━━━━━━━━━━━\u001b[0m\u001b[37m\u001b[0m \u001b[1m2s\u001b[0m 3ms/step - accuracy: 0.9697 - loss: 0.0917 - val_accuracy: 0.9869 - val_loss: 0.0368\n",
            "Epoch 19/20\n",
            "\u001b[1m603/603\u001b[0m \u001b[32m━━━━━━━━━━━━━━━━━━━━\u001b[0m\u001b[37m\u001b[0m \u001b[1m2s\u001b[0m 3ms/step - accuracy: 0.9881 - loss: 0.0341 - val_accuracy: 0.9821 - val_loss: 0.0523\n",
            "Epoch 20/20\n",
            "\u001b[1m603/603\u001b[0m \u001b[32m━━━━━━━━━━━━━━━━━━━━\u001b[0m\u001b[37m\u001b[0m \u001b[1m2s\u001b[0m 2ms/step - accuracy: 0.9868 - loss: 0.0402 - val_accuracy: 0.9863 - val_loss: 0.0379\n"
          ]
        },
        {
          "output_type": "execute_result",
          "data": {
            "text/plain": [
              "<keras.src.callbacks.history.History at 0x7a0e815c6770>"
            ]
          },
          "metadata": {},
          "execution_count": 19
        }
      ]
    },
    {
      "cell_type": "code",
      "source": [
        "# Classification report\n",
        "y_pred = np.argmax(model.predict(X_test), axis=1)\n",
        "y_test_classes = np.argmax(y_test, axis=1)  # Convert one-hot to classes\n",
        "print(\"Classification Report ANN:\")\n",
        "print(classification_report(y_test_classes, y_pred))"
      ],
      "metadata": {
        "colab": {
          "base_uri": "https://localhost:8080/"
        },
        "id": "O54noeoQCDMO",
        "outputId": "82bec367-0ea1-4638-9b83-1d7c43bc2f30"
      },
      "execution_count": 20,
      "outputs": [
        {
          "output_type": "stream",
          "name": "stdout",
          "text": [
            "\u001b[1m189/189\u001b[0m \u001b[32m━━━━━━━━━━━━━━━━━━━━\u001b[0m\u001b[37m\u001b[0m \u001b[1m1s\u001b[0m 3ms/step\n",
            "Classification Report ANN:\n",
            "              precision    recall  f1-score   support\n",
            "\n",
            "           0       0.96      0.99      0.97       437\n",
            "           1       0.99      0.92      0.95       530\n",
            "           2       0.94      0.98      0.96       504\n",
            "           3       0.99      1.00      1.00      1373\n",
            "          51       1.00      1.00      1.00      2332\n",
            "          53       0.95      0.98      0.96       469\n",
            "          55       0.99      0.78      0.87       135\n",
            "          61       0.96      0.99      0.98       181\n",
            "          63       0.96      0.96      0.96        57\n",
            "          65       1.00      0.67      0.80         3\n",
            "\n",
            "    accuracy                           0.98      6021\n",
            "   macro avg       0.97      0.93      0.95      6021\n",
            "weighted avg       0.98      0.98      0.98      6021\n",
            "\n"
          ]
        }
      ]
    },
    {
      "cell_type": "code",
      "source": [
        "import json\n",
        "\n",
        "# Simpan mean dan std scaler\n",
        "scaler_params = {\n",
        "    \"mean\": scaler.mean_.tolist(),\n",
        "    \"scale\": scaler.scale_.tolist()\n",
        "}\n",
        "\n",
        "# Simpan ke file JSON\n",
        "with open('scaler_params.json', 'w') as f:\n",
        "    json.dump(scaler_params, f)\n"
      ],
      "metadata": {
        "id": "Us58RTTkkxYG"
      },
      "execution_count": 32,
      "outputs": []
    },
    {
      "cell_type": "code",
      "source": [
        "# Predict on new input data\n",
        "input_data = np.array([[28, 85, 32, 0.0, 100, 19.2, 244]])  # Example input\n",
        "input_scaled = scaler.transform(input_data)  # Scale the input\n",
        "\n",
        "# Make prediction\n",
        "predicted_probabilities = model.predict(input_scaled)\n",
        "predicted_class = np.argmax(predicted_probabilities)\n",
        "print(f\"Prediksi Weather Code: {predicted_class}\")"
      ],
      "metadata": {
        "colab": {
          "base_uri": "https://localhost:8080/"
        },
        "id": "MIs0b4fECSmf",
        "outputId": "a42e7512-b8aa-47cf-f476-b8581a5216d5"
      },
      "execution_count": 21,
      "outputs": [
        {
          "output_type": "stream",
          "name": "stdout",
          "text": [
            "\u001b[1m1/1\u001b[0m \u001b[32m━━━━━━━━━━━━━━━━━━━━\u001b[0m\u001b[37m\u001b[0m \u001b[1m0s\u001b[0m 27ms/step\n",
            "Prediksi Weather Code: 3\n"
          ]
        },
        {
          "output_type": "stream",
          "name": "stderr",
          "text": [
            "/usr/local/lib/python3.10/dist-packages/sklearn/utils/validation.py:2739: UserWarning: X does not have valid feature names, but StandardScaler was fitted with feature names\n",
            "  warnings.warn(\n"
          ]
        }
      ]
    },
    {
      "cell_type": "code",
      "source": [
        "# Simpan model dalam format .h5\n",
        "model.save(\"ann_model.h5\")\n"
      ],
      "metadata": {
        "colab": {
          "base_uri": "https://localhost:8080/"
        },
        "id": "SvL_JVWCEDCP",
        "outputId": "6fc194ac-573a-4df5-f51d-41b2ea16917f"
      },
      "execution_count": 22,
      "outputs": [
        {
          "output_type": "stream",
          "name": "stderr",
          "text": [
            "WARNING:absl:You are saving your model as an HDF5 file via `model.save()` or `keras.saving.save_model(model)`. This file format is considered legacy. We recommend using instead the native Keras format, e.g. `model.save('my_model.keras')` or `keras.saving.save_model(model, 'my_model.keras')`. \n"
          ]
        }
      ]
    },
    {
      "cell_type": "code",
      "source": [
        "from tensorflow.keras.models import load_model\n",
        "import numpy as np\n",
        "\n",
        "# Load model\n",
        "model = load_model(\"ann_model.h5\")\n"
      ],
      "metadata": {
        "colab": {
          "base_uri": "https://localhost:8080/"
        },
        "id": "-88ndgDdj0g6",
        "outputId": "81f42933-c1dc-4429-9142-9adbc63eef94"
      },
      "execution_count": 23,
      "outputs": [
        {
          "output_type": "stream",
          "name": "stderr",
          "text": [
            "WARNING:absl:Compiled the loaded model, but the compiled metrics have yet to be built. `model.compile_metrics` will be empty until you train or evaluate the model.\n"
          ]
        }
      ]
    },
    {
      "cell_type": "code",
      "source": [
        "# Input baru (pastikan sesuai dengan fitur model)\n",
        "new_data_raw = np.array([[28, 85, 32, 0.0, 100, 19.2, 244]])  # Data mentah\n",
        "\n",
        "# Lakukan scaling pada input\n",
        "new_data_scaled = scaler.transform(new_data_raw)\n"
      ],
      "metadata": {
        "colab": {
          "base_uri": "https://localhost:8080/"
        },
        "id": "BTEGjt5oj1re",
        "outputId": "59557af1-799f-47e4-8909-04686f147922"
      },
      "execution_count": 28,
      "outputs": [
        {
          "output_type": "stream",
          "name": "stderr",
          "text": [
            "/usr/local/lib/python3.10/dist-packages/sklearn/utils/validation.py:2739: UserWarning: X does not have valid feature names, but StandardScaler was fitted with feature names\n",
            "  warnings.warn(\n"
          ]
        }
      ]
    },
    {
      "cell_type": "code",
      "source": [
        "# Prediksi\n",
        "predictions = model.predict(new_data_scaled)\n",
        "\n",
        "# Konversi dari one-hot encoding ke kelas asli\n",
        "predicted_class = np.argmax(predictions, axis=1)\n",
        "\n",
        "print(f\"Prediksi Kelas: {predicted_class}\")\n",
        "print(f\"Probabilitas untuk Setiap Kelas: {predictions}\")\n"
      ],
      "metadata": {
        "colab": {
          "base_uri": "https://localhost:8080/"
        },
        "id": "F43Kzhdnj4ht",
        "outputId": "d80d1aaf-638c-47fd-e304-d02aa7f9cd8b"
      },
      "execution_count": 29,
      "outputs": [
        {
          "output_type": "stream",
          "name": "stdout",
          "text": [
            "\u001b[1m1/1\u001b[0m \u001b[32m━━━━━━━━━━━━━━━━━━━━\u001b[0m\u001b[37m\u001b[0m \u001b[1m0s\u001b[0m 33ms/step\n",
            "Prediksi Kelas: [3]\n",
            "Probabilitas untuk Setiap Kelas: [[0.00000000e+00 5.99436291e-30 9.71463132e-10 9.87402260e-01\n",
            "  2.86232437e-23 1.69346215e-20 2.43129304e-21 1.44267878e-18\n",
            "  8.23691651e-22 6.05455263e-22 2.92596078e-21 1.59240106e-22\n",
            "  5.28180166e-22 2.98608263e-22 3.56770044e-23 5.84649383e-20\n",
            "  7.24759820e-21 7.69846518e-24 6.84311980e-21 1.55576479e-19\n",
            "  2.82915415e-20 1.70006515e-19 1.73167010e-22 8.16539952e-22\n",
            "  1.10492611e-17 1.43214690e-16 2.02840228e-20 1.57192917e-22\n",
            "  6.98908043e-24 2.29508895e-21 1.40776255e-22 3.49270138e-19\n",
            "  2.33489176e-19 1.63213095e-21 1.82125986e-21 6.01798685e-22\n",
            "  4.96706319e-20 3.03491533e-20 1.06925120e-21 2.08166665e-21\n",
            "  5.10210242e-22 2.70959367e-21 4.69399245e-20 5.45549848e-21\n",
            "  1.10153663e-20 1.46634041e-21 3.52784970e-20 1.08848325e-20\n",
            "  7.16190079e-22 1.10224644e-21 4.69002736e-24 1.25977062e-02\n",
            "  1.10621077e-20 1.73165584e-38 4.04577552e-22 3.82861559e-33\n",
            "  1.91211826e-21 8.67961030e-19 1.53976957e-20 1.41921743e-19\n",
            "  1.37690889e-24 0.00000000e+00 3.28998784e-19 2.29418859e-35\n",
            "  4.80488084e-22 4.19840481e-33]]\n"
          ]
        }
      ]
    },
    {
      "cell_type": "code",
      "source": [
        "import tensorflow as tf\n",
        "\n",
        "# Muat model dari file .h5\n",
        "loaded_model = tf.keras.models.load_model(\"ann_model.h5\")\n",
        "\n",
        "# Konversi model ke format .tflite\n",
        "converter = tf.lite.TFLiteConverter.from_keras_model(loaded_model)\n",
        "tflite_model = converter.convert()\n",
        "\n",
        "# Simpan model dalam format .tflite\n",
        "with open(\"ann_model.tflite\", \"wb\") as f:\n",
        "    f.write(tflite_model)\n",
        "\n",
        "print(\"Model berhasil dikonversi ke .tflite!\")\n"
      ],
      "metadata": {
        "colab": {
          "base_uri": "https://localhost:8080/"
        },
        "id": "emkNoUyqD9DP",
        "outputId": "57a02df8-c407-432a-c559-7255ae59ecf2"
      },
      "execution_count": 30,
      "outputs": [
        {
          "output_type": "stream",
          "name": "stderr",
          "text": [
            "WARNING:absl:Compiled the loaded model, but the compiled metrics have yet to be built. `model.compile_metrics` will be empty until you train or evaluate the model.\n"
          ]
        },
        {
          "output_type": "stream",
          "name": "stdout",
          "text": [
            "Saved artifact at '/tmp/tmp4wm8t1ol'. The following endpoints are available:\n",
            "\n",
            "* Endpoint 'serve'\n",
            "  args_0 (POSITIONAL_ONLY): TensorSpec(shape=(None, 7), dtype=tf.float32, name='input_layer')\n",
            "Output Type:\n",
            "  TensorSpec(shape=(None, 66), dtype=tf.float32, name=None)\n",
            "Captures:\n",
            "  134202632451904: TensorSpec(shape=(), dtype=tf.resource, name=None)\n",
            "  134202632453840: TensorSpec(shape=(), dtype=tf.resource, name=None)\n",
            "  134202633329600: TensorSpec(shape=(), dtype=tf.resource, name=None)\n",
            "  134202633334528: TensorSpec(shape=(), dtype=tf.resource, name=None)\n",
            "  134202633333120: TensorSpec(shape=(), dtype=tf.resource, name=None)\n",
            "  134202633457504: TensorSpec(shape=(), dtype=tf.resource, name=None)\n",
            "Model berhasil dikonversi ke .tflite!\n"
          ]
        }
      ]
    },
    {
      "cell_type": "code",
      "source": [
        "import numpy as np\n",
        "from sklearn.preprocessing import StandardScaler\n",
        "import json\n",
        "\n",
        "# Contoh data mentah\n",
        "new_data_raw = np.array([[28, 85, 32, 0.0, 100, 19.2, 244]])\n",
        "\n",
        "# Muat parameter scaler dari file JSON\n",
        "with open('scaler_params.json', 'r') as f:\n",
        "    scaler_params = json.load(f)\n",
        "\n",
        "# Lakukan scaling data\n",
        "scaler = StandardScaler()\n",
        "scaler.mean_ = np.array(scaler_params['mean'])\n",
        "scaler.scale_ = np.array(scaler_params['scale'])\n",
        "new_data_scaled = scaler.transform(new_data_raw)\n"
      ],
      "metadata": {
        "id": "T274shRmkqFW"
      },
      "execution_count": 36,
      "outputs": []
    },
    {
      "cell_type": "code",
      "source": [
        "import tensorflow as tf\n",
        "\n",
        "# Muat model TFLite\n",
        "interpreter = tf.lite.Interpreter(model_path=\"ann_model.tflite\")\n",
        "interpreter.allocate_tensors()\n",
        "\n",
        "# Dapatkan detail input dan output\n",
        "input_details = interpreter.get_input_details()\n",
        "output_details = interpreter.get_output_details()\n"
      ],
      "metadata": {
        "id": "vVXdTFHwk29r"
      },
      "execution_count": 37,
      "outputs": []
    },
    {
      "cell_type": "code",
      "source": [
        "# Ubah input ke tipe data yang sesuai dengan model\n",
        "new_data_scaled = new_data_scaled.astype(input_details[0]['dtype'])\n",
        "\n",
        "# Set input ke interpreter\n",
        "interpreter.set_tensor(input_details[0]['index'], new_data_scaled)\n",
        "\n",
        "# Jalankan inferensi\n",
        "interpreter.invoke()\n",
        "\n",
        "# Dapatkan output\n",
        "output_data = interpreter.get_tensor(output_details[0]['index'])\n",
        "\n",
        "# Konversi output ke kelas asli (argmax untuk klasifikasi)\n",
        "predicted_class = np.argmax(output_data, axis=1)\n",
        "\n",
        "print(f\"Prediksi kelas: {predicted_class}\")\n",
        "print(f\"Probabilitas untuk setiap kelas: {output_data}\")\n"
      ],
      "metadata": {
        "colab": {
          "base_uri": "https://localhost:8080/"
        },
        "id": "XjYcSdDpk4RD",
        "outputId": "cf43b415-ef97-490a-94ca-aa858c47263c"
      },
      "execution_count": 38,
      "outputs": [
        {
          "output_type": "stream",
          "name": "stdout",
          "text": [
            "Prediksi kelas: [3]\n",
            "Probabilitas untuk setiap kelas: [[0.00000000e+00 5.99431815e-30 9.71463132e-10 9.87402380e-01\n",
            "  2.86231364e-23 1.69346894e-20 2.43129344e-21 1.44267330e-18\n",
            "  8.23691752e-22 6.05455364e-22 2.92594967e-21 1.59240144e-22\n",
            "  5.28180216e-22 2.98607152e-22 3.56772852e-23 5.84649447e-20\n",
            "  7.24762647e-21 7.69849436e-24 6.84311980e-21 1.55576517e-19\n",
            "  2.82915415e-20 1.70006541e-19 1.73165685e-22 8.16540053e-22\n",
            "  1.10492619e-17 1.43214173e-16 2.02839501e-20 1.57192943e-22\n",
            "  6.98908043e-24 2.29508955e-21 1.40776280e-22 3.49271482e-19\n",
            "  2.33489176e-19 1.63213115e-21 1.82126006e-21 6.01798735e-22\n",
            "  4.96708258e-20 3.03491533e-20 1.06925140e-21 2.08165878e-21\n",
            "  5.10210242e-22 2.70959388e-21 4.69399245e-20 5.45551948e-21\n",
            "  1.10154091e-20 1.46633485e-21 3.52785035e-20 1.08848325e-20\n",
            "  7.16190130e-22 1.10224664e-21 4.69004590e-24 1.25976829e-02\n",
            "  1.10621505e-20 2.32137184e-38 4.04577602e-22 3.82864534e-33\n",
            "  1.91211099e-21 8.67967751e-19 1.53976957e-20 1.41921213e-19\n",
            "  1.37690889e-24 0.00000000e+00 3.28998836e-19 2.29418888e-35\n",
            "  4.80488084e-22 4.19840517e-33]]\n"
          ]
        }
      ]
    },
    {
      "cell_type": "code",
      "source": [
        "# Load the TFLite model\n",
        "interpreter = tf.lite.Interpreter(model_path=\"ann_model.tflite\")\n",
        "interpreter.allocate_tensors()\n",
        "\n",
        "# Print input/output details\n",
        "input_details = interpreter.get_input_details()\n",
        "output_details = interpreter.get_output_details()\n",
        "\n",
        "print(\"Input details:\", input_details)\n",
        "print(\"Output details:\", output_details)\n"
      ],
      "metadata": {
        "colab": {
          "base_uri": "https://localhost:8080/"
        },
        "id": "tVVums4BEGst",
        "outputId": "44b5c658-1892-476a-ea83-2a266ac5974c"
      },
      "execution_count": null,
      "outputs": [
        {
          "output_type": "stream",
          "name": "stdout",
          "text": [
            "Input details: [{'name': 'serving_default_input_layer:0', 'index': 0, 'shape': array([1, 7], dtype=int32), 'shape_signature': array([-1,  7], dtype=int32), 'dtype': <class 'numpy.float32'>, 'quantization': (0.0, 0), 'quantization_parameters': {'scales': array([], dtype=float32), 'zero_points': array([], dtype=int32), 'quantized_dimension': 0}, 'sparsity_parameters': {}}]\n",
            "Output details: [{'name': 'StatefulPartitionedCall_1:0', 'index': 10, 'shape': array([ 1, 66], dtype=int32), 'shape_signature': array([-1, 66], dtype=int32), 'dtype': <class 'numpy.float32'>, 'quantization': (0.0, 0), 'quantization_parameters': {'scales': array([], dtype=float32), 'zero_points': array([], dtype=int32), 'quantized_dimension': 0}, 'sparsity_parameters': {}}]\n"
          ]
        }
      ]
    },
    {
      "cell_type": "code",
      "source": [
        "# Periksa arsitektur model\n",
        "model.summary()\n"
      ],
      "metadata": {
        "colab": {
          "base_uri": "https://localhost:8080/",
          "height": 250
        },
        "id": "UAASXlgcEbel",
        "outputId": "007759d4-2ec1-4cf7-d8be-528e5d6f4bdb"
      },
      "execution_count": null,
      "outputs": [
        {
          "output_type": "display_data",
          "data": {
            "text/plain": [
              "\u001b[1mModel: \"sequential\"\u001b[0m\n"
            ],
            "text/html": [
              "<pre style=\"white-space:pre;overflow-x:auto;line-height:normal;font-family:Menlo,'DejaVu Sans Mono',consolas,'Courier New',monospace\"><span style=\"font-weight: bold\">Model: \"sequential\"</span>\n",
              "</pre>\n"
            ]
          },
          "metadata": {}
        },
        {
          "output_type": "display_data",
          "data": {
            "text/plain": [
              "┏━━━━━━━━━━━━━━━━━━━━━━━━━━━━━━━━━━━━━━┳━━━━━━━━━━━━━━━━━━━━━━━━━━━━━┳━━━━━━━━━━━━━━━━━┓\n",
              "┃\u001b[1m \u001b[0m\u001b[1mLayer (type)                        \u001b[0m\u001b[1m \u001b[0m┃\u001b[1m \u001b[0m\u001b[1mOutput Shape               \u001b[0m\u001b[1m \u001b[0m┃\u001b[1m \u001b[0m\u001b[1m        Param #\u001b[0m\u001b[1m \u001b[0m┃\n",
              "┡━━━━━━━━━━━━━━━━━━━━━━━━━━━━━━━━━━━━━━╇━━━━━━━━━━━━━━━━━━━━━━━━━━━━━╇━━━━━━━━━━━━━━━━━┩\n",
              "│ dense (\u001b[38;5;33mDense\u001b[0m)                        │ (\u001b[38;5;45mNone\u001b[0m, \u001b[38;5;34m128\u001b[0m)                 │           \u001b[38;5;34m1,024\u001b[0m │\n",
              "├──────────────────────────────────────┼─────────────────────────────┼─────────────────┤\n",
              "│ dense_1 (\u001b[38;5;33mDense\u001b[0m)                      │ (\u001b[38;5;45mNone\u001b[0m, \u001b[38;5;34m64\u001b[0m)                  │           \u001b[38;5;34m8,256\u001b[0m │\n",
              "├──────────────────────────────────────┼─────────────────────────────┼─────────────────┤\n",
              "│ dense_2 (\u001b[38;5;33mDense\u001b[0m)                      │ (\u001b[38;5;45mNone\u001b[0m, \u001b[38;5;34m66\u001b[0m)                  │           \u001b[38;5;34m4,290\u001b[0m │\n",
              "└──────────────────────────────────────┴─────────────────────────────┴─────────────────┘\n"
            ],
            "text/html": [
              "<pre style=\"white-space:pre;overflow-x:auto;line-height:normal;font-family:Menlo,'DejaVu Sans Mono',consolas,'Courier New',monospace\">┏━━━━━━━━━━━━━━━━━━━━━━━━━━━━━━━━━━━━━━┳━━━━━━━━━━━━━━━━━━━━━━━━━━━━━┳━━━━━━━━━━━━━━━━━┓\n",
              "┃<span style=\"font-weight: bold\"> Layer (type)                         </span>┃<span style=\"font-weight: bold\"> Output Shape                </span>┃<span style=\"font-weight: bold\">         Param # </span>┃\n",
              "┡━━━━━━━━━━━━━━━━━━━━━━━━━━━━━━━━━━━━━━╇━━━━━━━━━━━━━━━━━━━━━━━━━━━━━╇━━━━━━━━━━━━━━━━━┩\n",
              "│ dense (<span style=\"color: #0087ff; text-decoration-color: #0087ff\">Dense</span>)                        │ (<span style=\"color: #00d7ff; text-decoration-color: #00d7ff\">None</span>, <span style=\"color: #00af00; text-decoration-color: #00af00\">128</span>)                 │           <span style=\"color: #00af00; text-decoration-color: #00af00\">1,024</span> │\n",
              "├──────────────────────────────────────┼─────────────────────────────┼─────────────────┤\n",
              "│ dense_1 (<span style=\"color: #0087ff; text-decoration-color: #0087ff\">Dense</span>)                      │ (<span style=\"color: #00d7ff; text-decoration-color: #00d7ff\">None</span>, <span style=\"color: #00af00; text-decoration-color: #00af00\">64</span>)                  │           <span style=\"color: #00af00; text-decoration-color: #00af00\">8,256</span> │\n",
              "├──────────────────────────────────────┼─────────────────────────────┼─────────────────┤\n",
              "│ dense_2 (<span style=\"color: #0087ff; text-decoration-color: #0087ff\">Dense</span>)                      │ (<span style=\"color: #00d7ff; text-decoration-color: #00d7ff\">None</span>, <span style=\"color: #00af00; text-decoration-color: #00af00\">66</span>)                  │           <span style=\"color: #00af00; text-decoration-color: #00af00\">4,290</span> │\n",
              "└──────────────────────────────────────┴─────────────────────────────┴─────────────────┘\n",
              "</pre>\n"
            ]
          },
          "metadata": {}
        },
        {
          "output_type": "display_data",
          "data": {
            "text/plain": [
              "\u001b[1m Total params: \u001b[0m\u001b[38;5;34m40,712\u001b[0m (159.04 KB)\n"
            ],
            "text/html": [
              "<pre style=\"white-space:pre;overflow-x:auto;line-height:normal;font-family:Menlo,'DejaVu Sans Mono',consolas,'Courier New',monospace\"><span style=\"font-weight: bold\"> Total params: </span><span style=\"color: #00af00; text-decoration-color: #00af00\">40,712</span> (159.04 KB)\n",
              "</pre>\n"
            ]
          },
          "metadata": {}
        },
        {
          "output_type": "display_data",
          "data": {
            "text/plain": [
              "\u001b[1m Trainable params: \u001b[0m\u001b[38;5;34m13,570\u001b[0m (53.01 KB)\n"
            ],
            "text/html": [
              "<pre style=\"white-space:pre;overflow-x:auto;line-height:normal;font-family:Menlo,'DejaVu Sans Mono',consolas,'Courier New',monospace\"><span style=\"font-weight: bold\"> Trainable params: </span><span style=\"color: #00af00; text-decoration-color: #00af00\">13,570</span> (53.01 KB)\n",
              "</pre>\n"
            ]
          },
          "metadata": {}
        },
        {
          "output_type": "display_data",
          "data": {
            "text/plain": [
              "\u001b[1m Non-trainable params: \u001b[0m\u001b[38;5;34m0\u001b[0m (0.00 B)\n"
            ],
            "text/html": [
              "<pre style=\"white-space:pre;overflow-x:auto;line-height:normal;font-family:Menlo,'DejaVu Sans Mono',consolas,'Courier New',monospace\"><span style=\"font-weight: bold\"> Non-trainable params: </span><span style=\"color: #00af00; text-decoration-color: #00af00\">0</span> (0.00 B)\n",
              "</pre>\n"
            ]
          },
          "metadata": {}
        },
        {
          "output_type": "display_data",
          "data": {
            "text/plain": [
              "\u001b[1m Optimizer params: \u001b[0m\u001b[38;5;34m27,142\u001b[0m (106.03 KB)\n"
            ],
            "text/html": [
              "<pre style=\"white-space:pre;overflow-x:auto;line-height:normal;font-family:Menlo,'DejaVu Sans Mono',consolas,'Courier New',monospace\"><span style=\"font-weight: bold\"> Optimizer params: </span><span style=\"color: #00af00; text-decoration-color: #00af00\">27,142</span> (106.03 KB)\n",
              "</pre>\n"
            ]
          },
          "metadata": {}
        }
      ]
    },
    {
      "cell_type": "code",
      "source": [
        "print(\"Unique classes in target:\", np.unique(y_cleaned))\n"
      ],
      "metadata": {
        "colab": {
          "base_uri": "https://localhost:8080/"
        },
        "id": "R2JEhnXvEepn",
        "outputId": "3061acb5-1223-4a5c-c2fb-e5c45346e991"
      },
      "execution_count": null,
      "outputs": [
        {
          "output_type": "stream",
          "name": "stdout",
          "text": [
            "Unique classes in target: [ 0  1  2  3 51 53 55 61 63 65]\n"
          ]
        }
      ]
    },
    {
      "cell_type": "code",
      "source": [
        "# Simpan model ke format SavedModel (protokol buffer format .pb)\n",
        "model.export(\"saved_model_weather\")"
      ],
      "metadata": {
        "colab": {
          "base_uri": "https://localhost:8080/"
        },
        "id": "pzZ7FVm_FCIZ",
        "outputId": "e1cc2d35-2d7d-4f06-93b1-5ae2f1f5154e"
      },
      "execution_count": null,
      "outputs": [
        {
          "output_type": "stream",
          "name": "stdout",
          "text": [
            "Saved artifact at 'saved_model_weather'. The following endpoints are available:\n",
            "\n",
            "* Endpoint 'serve'\n",
            "  args_0 (POSITIONAL_ONLY): TensorSpec(shape=(None, 7), dtype=tf.float32, name='keras_tensor')\n",
            "Output Type:\n",
            "  TensorSpec(shape=(None, 66), dtype=tf.float32, name=None)\n",
            "Captures:\n",
            "  135814520879264: TensorSpec(shape=(), dtype=tf.resource, name=None)\n",
            "  135814520877328: TensorSpec(shape=(), dtype=tf.resource, name=None)\n",
            "  135814517953760: TensorSpec(shape=(), dtype=tf.resource, name=None)\n",
            "  135814517950592: TensorSpec(shape=(), dtype=tf.resource, name=None)\n",
            "  135814517954464: TensorSpec(shape=(), dtype=tf.resource, name=None)\n",
            "  135814517952000: TensorSpec(shape=(), dtype=tf.resource, name=None)\n"
          ]
        }
      ]
    },
    {
      "cell_type": "code",
      "source": [
        "import tensorflow as tf\n",
        "\n",
        "# Load the SavedModel\n",
        "saved_model_dir = \"saved_model_weather\"\n",
        "\n",
        "# Create the converter\n",
        "converter = tf.lite.TFLiteConverter.from_saved_model(saved_model_dir)\n",
        "\n",
        "# Enable resource variables for better compatibility\n",
        "converter.experimental_enable_resource_variables = True\n",
        "\n",
        "# Set the supported ops to include SELECT_TF_OPS for LSTM compatibility\n",
        "converter.target_spec.supported_ops = [\n",
        "    tf.lite.OpsSet.TFLITE_BUILTINS, tf.lite.OpsSet.SELECT_TF_OPS\n",
        "]\n",
        "\n",
        "# Disable experimental lowering of tensor list ops\n",
        "converter._experimental_lower_tensor_list_ops = False\n",
        "\n",
        "# Convert the model\n",
        "tflite_model = converter.convert()\n",
        "\n",
        "# Save the TFLite model\n",
        "with open(\"weather_classification.tflite\", \"wb\") as f:\n",
        "    f.write(tflite_model)\n",
        "\n",
        "print(\"Model has been converted to TFLite format and saved as 'weather_prediction.tflite'.\")"
      ],
      "metadata": {
        "colab": {
          "base_uri": "https://localhost:8080/"
        },
        "id": "1zNAmgg2FJ8u",
        "outputId": "94fa382c-440c-42b8-dcad-3ee26e2e8d97"
      },
      "execution_count": null,
      "outputs": [
        {
          "output_type": "stream",
          "name": "stdout",
          "text": [
            "Model has been converted to TFLite format and saved as 'weather_prediction.tflite'.\n"
          ]
        }
      ]
    },
    {
      "cell_type": "code",
      "source": [
        "# Load the TFLite model\n",
        "interpreter = tf.lite.Interpreter(model_path=\"weather_classification.tflite\")\n",
        "interpreter.allocate_tensors()\n",
        "\n",
        "# Print input/output details\n",
        "input_details = interpreter.get_input_details()\n",
        "output_details = interpreter.get_output_details()\n",
        "\n",
        "print(\"Input details:\", input_details)\n",
        "print(\"Output details:\", output_details)\n"
      ],
      "metadata": {
        "colab": {
          "base_uri": "https://localhost:8080/"
        },
        "id": "CDPs0kbyFRzN",
        "outputId": "b7744b5b-2e0e-41c7-94e2-9f8d7a4330d1"
      },
      "execution_count": null,
      "outputs": [
        {
          "output_type": "stream",
          "name": "stdout",
          "text": [
            "Input details: [{'name': 'serving_default_keras_tensor:0', 'index': 0, 'shape': array([1, 7], dtype=int32), 'shape_signature': array([-1,  7], dtype=int32), 'dtype': <class 'numpy.float32'>, 'quantization': (0.0, 0), 'quantization_parameters': {'scales': array([], dtype=float32), 'zero_points': array([], dtype=int32), 'quantized_dimension': 0}, 'sparsity_parameters': {}}]\n",
            "Output details: [{'name': 'StatefulPartitionedCall_1:0', 'index': 10, 'shape': array([ 1, 66], dtype=int32), 'shape_signature': array([-1, 66], dtype=int32), 'dtype': <class 'numpy.float32'>, 'quantization': (0.0, 0), 'quantization_parameters': {'scales': array([], dtype=float32), 'zero_points': array([], dtype=int32), 'quantized_dimension': 0}, 'sparsity_parameters': {}}]\n"
          ]
        }
      ]
    },
    {
      "cell_type": "code",
      "source": [
        "import tensorflow as tf\n",
        "import numpy as np\n",
        "\n",
        "# Load .tflite model\n",
        "interpreter = tf.lite.Interpreter(model_path=\"weather_classification(lewat pb).tflite\")\n",
        "interpreter.allocate_tensors()\n",
        "\n",
        "# Get input and output details\n",
        "input_details = interpreter.get_input_details()\n",
        "output_details = interpreter.get_output_details()\n",
        "\n",
        "# Test input (sesuaikan dengan input dimensi model Anda)\n",
        "input_data = np.array([[28, 85, 32, 0.0, 100, 19.2, 244]], dtype=np.float32)\n",
        "interpreter.set_tensor(input_details[0]['index'], input_data)\n",
        "\n",
        "# Run inference\n",
        "interpreter.invoke()\n",
        "\n",
        "# Get the output tensor\n",
        "output_data = interpreter.get_tensor(output_details[0]['index'])\n",
        "print(\"Output shape:\", output_data.shape)\n",
        "print(\"Output values:\", output_data)\n",
        "\n",
        "# Pilih prediksi terbaik\n",
        "predicted_class = np.argmax(output_data)\n",
        "print(\"Predicted class:\", predicted_class)\n"
      ],
      "metadata": {
        "id": "QAIkF5cLHUYl",
        "outputId": "9bcc8195-2868-40b0-8532-e15cb65fd359",
        "colab": {
          "base_uri": "https://localhost:8080/"
        }
      },
      "execution_count": null,
      "outputs": [
        {
          "output_type": "stream",
          "name": "stdout",
          "text": [
            "Output shape: (1, 66)\n",
            "Output values: [[0. 0. 0. 0. 0. 0. 0. 0. 0. 0. 0. 0. 0. 0. 0. 0. 0. 0. 0. 0. 0. 0. 0. 0.\n",
            "  0. 0. 0. 0. 0. 0. 0. 0. 0. 0. 0. 0. 0. 0. 0. 0. 0. 0. 0. 0. 0. 0. 0. 0.\n",
            "  0. 0. 0. 1. 0. 0. 0. 0. 0. 0. 0. 0. 0. 0. 0. 0. 0. 0.]]\n",
            "Predicted class: 51\n"
          ]
        }
      ]
    },
    {
      "cell_type": "code",
      "source": [
        "from sklearn.preprocessing import StandardScaler\n",
        "import numpy as np\n",
        "import pandas as pd\n",
        "\n",
        "# Load dataset\n",
        "data = pd.read_csv(\"cuaca_data_regresi.csv\")\n",
        "\n",
        "# Pilih fitur yang akan distandardisasi\n",
        "features = ['temperature_2m (°C)', 'relative_humidity_2m (%)', 'apparent_temperature (°C)', 'rain (mm)', 'cloud_cover (%)', 'wind_speed_10m (km/h)', 'wind_direction_10m (°)']\n",
        "\n",
        "# Pisahkan dataset ke dalam fitur-fitur yang relevan\n",
        "training_data = data[features]\n",
        "\n",
        "# Inisialisasi StandardScaler\n",
        "scaler = StandardScaler()\n",
        "\n",
        "# Fit scaler pada data pelatihan\n",
        "scaler.fit(training_data)\n",
        "\n",
        "# Ambil mean dan std dev\n",
        "scaler_mean = scaler.mean_\n",
        "scaler_std = np.sqrt(scaler.var_)\n",
        "\n",
        "print(\"Mean (scaler_mean):\", scaler_mean)\n",
        "print(\"Standard Deviation (scaler_std):\", scaler_std)\n"
      ],
      "metadata": {
        "colab": {
          "base_uri": "https://localhost:8080/"
        },
        "id": "9ez73qyNnoMc",
        "outputId": "ac1a3e2b-7f9b-4ebf-b3bb-78069f26a199"
      },
      "execution_count": null,
      "outputs": [
        {
          "output_type": "stream",
          "name": "stdout",
          "text": [
            "Mean (scaler_mean): [ 26.2958278   81.2470768   30.24774449   1.38435756  78.25265745\n",
            "   9.1647688  166.96724688]\n",
            "Standard Deviation (scaler_std): [ 2.28639095 13.47205581  2.42871466  3.52033765 29.44686967  5.32398296\n",
            " 78.05539713]\n"
          ]
        }
      ]
    },
    {
      "cell_type": "code",
      "source": [
        "import tensorflow as tf\n",
        "import numpy as np\n",
        "\n",
        "# Load .tflite model\n",
        "interpreter = tf.lite.Interpreter(model_path=\"weather_classification(lewat pb).tflite\")\n",
        "interpreter.allocate_tensors()\n",
        "\n",
        "# Get input and output details\n",
        "input_details = interpreter.get_input_details()\n",
        "output_details = interpreter.get_output_details()\n",
        "\n",
        "# Simpan parameter StandardScaler dari proses pelatihan (diisi dengan nilai actual dari scaler training)\n",
        "# Pastikan parameter ini diperoleh dari proses pelatihan asli\n",
        "scaler_mean = np.array([26.2958278, 81.2470768, 30.24774449, 1.38435756, 78.25265745, 9.1647688, 166.96724688], dtype=np.float32)  # Contoh rata-rata setiap fitur\n",
        "scaler_std = np.array([2.28639095, 13.47205581, 2.4287146, 3.52033765, 29.44686967, 5.32398296, 78.05539713], dtype=np.float32)  # Contoh standar deviasi setiap fitur\n",
        "\n",
        "# Data input asli (dimensi harus sesuai dengan model)\n",
        "raw_input_data = np.array([[37.933407, 98.94322, 49.596523, 1.581699, 66.0445, 30.646872, 196.93498]], dtype=np.float32)\n",
        "\n",
        "# Terapkan StandardScaler\n",
        "scaled_input_data = (raw_input_data - scaler_mean) / scaler_std\n",
        "\n",
        "# Set scaled data to input tensor\n",
        "interpreter.set_tensor(input_details[0]['index'], scaled_input_data)\n",
        "\n",
        "# Run inference\n",
        "interpreter.invoke()\n",
        "\n",
        "# Get the output tensor\n",
        "output_data = interpreter.get_tensor(output_details[0]['index'])\n",
        "print(\"Output shape:\", output_data.shape)\n",
        "print(\"Output values:\", output_data)\n",
        "\n",
        "# Pilih prediksi terbaik\n",
        "predicted_class = np.argmax(output_data)\n",
        "print(\"Predicted class:\", predicted_class)\n"
      ],
      "metadata": {
        "colab": {
          "base_uri": "https://localhost:8080/"
        },
        "id": "nARhlGRfkods",
        "outputId": "92996d62-bfe0-4433-fdbe-cec739e017e9"
      },
      "execution_count": null,
      "outputs": [
        {
          "output_type": "stream",
          "name": "stdout",
          "text": [
            "Output shape: (1, 66)\n",
            "Output values: [[3.82068695e-32 2.92503767e-22 1.97622648e-25 7.95126290e-36\n",
            "  3.82195080e-19 3.16402315e-22 8.53405216e-18 1.48774831e-20\n",
            "  1.02947287e-19 9.73243713e-20 2.85737830e-21 6.22922629e-19\n",
            "  5.81083324e-22 1.00665420e-18 4.70775577e-19 4.36310735e-19\n",
            "  6.04405074e-18 1.00110102e-19 2.00454458e-20 3.12469395e-21\n",
            "  4.46522693e-20 2.59531035e-20 2.48084019e-20 1.63434139e-18\n",
            "  4.21829704e-20 9.26160734e-19 2.63358849e-19 6.55559215e-21\n",
            "  2.75472696e-20 2.82041679e-22 5.00144883e-19 4.92311728e-20\n",
            "  2.11445438e-18 1.83753779e-20 1.54148712e-21 9.74562145e-21\n",
            "  3.40977969e-20 7.48994475e-22 1.18321875e-17 5.91489714e-21\n",
            "  2.49481085e-19 1.62494639e-20 6.36549409e-21 4.68780766e-20\n",
            "  3.81781076e-20 3.09482699e-19 2.32779691e-20 2.57605550e-21\n",
            "  2.15246830e-18 2.71763490e-18 1.12795796e-19 1.00000000e+00\n",
            "  1.53738961e-19 6.21701759e-21 7.36494476e-21 1.26400387e-21\n",
            "  4.85986498e-19 3.30796537e-18 3.30070480e-18 2.67926648e-21\n",
            "  2.95273411e-18 5.82210033e-31 1.68732599e-20 1.28614998e-27\n",
            "  6.08067335e-21 1.18889562e-27]]\n",
            "Predicted class: 51\n"
          ]
        }
      ]
    },
    {
      "cell_type": "code",
      "source": [
        "import tensorflow as tf\n",
        "import numpy as np\n",
        "import pandas as pd\n",
        "from sklearn.preprocessing import MinMaxScaler\n",
        "\n",
        "# Load the .tflite model\n",
        "interpreter = tf.lite.Interpreter(model_path=\"weather_prediction.tflite\")\n",
        "interpreter.allocate_tensors()\n",
        "\n",
        "# Get input and output details\n",
        "input_details = interpreter.get_input_details()\n",
        "output_details = interpreter.get_output_details()\n",
        "\n",
        "# Example user input weather data\n",
        "user_input_weather = {\n",
        "    \"temperature_2m (°C)\": 26.6,\n",
        "    \"relative_humidity_2m (%)\": 91,\n",
        "    \"apparent_temperature (°C)\": 32.9,\n",
        "    \"rain (mm)\": 0.0,\n",
        "    \"cloud_cover (%)\": 96,\n",
        "    \"wind_speed_10m (km/h)\": 3.6,\n",
        "    \"wind_direction_10m (°)\": 270\n",
        "}\n",
        "\n",
        "# Simulate dataset columns for scaling consistency\n",
        "data_columns = [\n",
        "    \"temperature_2m (°C)\",\n",
        "    \"relative_humidity_2m (%)\",\n",
        "    \"apparent_temperature (°C)\",\n",
        "    \"rain (mm)\",\n",
        "    \"cloud_cover (%)\",\n",
        "    \"wind_speed_10m (km/h)\",\n",
        "    \"wind_direction_10m (°)\"\n",
        "]\n",
        "\n",
        "# Assuming you have the scaler saved and loaded\n",
        "scaler = MinMaxScaler(feature_range=(0, 1))\n",
        "\n",
        "# Load a dataset to fit scaler (use training data columns and values here)\n",
        "training_data = pd.read_csv(\"cuaca_data_regresi.csv\")[data_columns]\n",
        "scaler.fit(training_data)  # Fit scaler on training data\n",
        "\n",
        "# Function to scale user input\n",
        "def scale_user_input(user_input, scaler, data_columns):\n",
        "    input_df = pd.DataFrame([user_input])[data_columns]\n",
        "    scaled_input = scaler.transform(input_df)\n",
        "    return scaled_input\n",
        "\n",
        "# Scale the user input\n",
        "scaled_user_input = scale_user_input(user_input_weather, scaler, data_columns)\n",
        "\n",
        "# Prepare the input sequence (ensure it matches sequence length expected by the model)\n",
        "seq_length = 1\n",
        "padded_sequence = np.zeros((seq_length, len(data_columns)))  # Empty padded sequence\n",
        "padded_sequence[-1, :] = scaled_user_input  # Insert user input at the last position\n",
        "padded_sequence = np.expand_dims(padded_sequence, axis=0).astype(np.float32)  # Add batch dimension\n",
        "\n",
        "# Set the input tensor\n",
        "interpreter.set_tensor(input_details[0]['index'], padded_sequence)\n",
        "\n",
        "# Run inference\n",
        "interpreter.invoke()\n",
        "\n",
        "# Get the output tensor\n",
        "prediction_scaled = interpreter.get_tensor(output_details[0]['index'])\n",
        "\n",
        "# Reverse scaling for the prediction\n",
        "predicted_weather = scaler.inverse_transform(prediction_scaled)[0]\n",
        "\n",
        "# Map the predicted values to column names\n",
        "predicted_result = dict(zip(data_columns, predicted_weather))\n",
        "\n",
        "# Display results\n",
        "print(\"Predicted weather 6 hours ahead:\")\n",
        "print(predicted_result)\n"
      ],
      "metadata": {
        "colab": {
          "base_uri": "https://localhost:8080/"
        },
        "id": "KYo8pIJIp4Hb",
        "outputId": "d653d275-1490-4a57-81be-6ba478a44023"
      },
      "execution_count": null,
      "outputs": [
        {
          "output_type": "stream",
          "name": "stdout",
          "text": [
            "Predicted weather 6 hours ahead:\n",
            "{'temperature_2m (°C)': 26.106104, 'relative_humidity_2m (%)': 90.99758, 'apparent_temperature (°C)': 31.316364, 'rain (mm)': 45.96852, 'cloud_cover (%)': 3.8965135, 'wind_speed_10m (km/h)': 30.233658, 'wind_direction_10m (°)': 3.0000002}\n"
          ]
        }
      ]
    }
  ]
}