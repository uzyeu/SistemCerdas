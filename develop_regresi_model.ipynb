{
  "nbformat": 4,
  "nbformat_minor": 0,
  "metadata": {
    "colab": {
      "provenance": []
    },
    "kernelspec": {
      "name": "python3",
      "display_name": "Python 3"
    },
    "language_info": {
      "name": "python"
    }
  },
  "cells": [
    {
      "cell_type": "code",
      "execution_count": 1,
      "metadata": {
        "id": "0Lqkw8nVH3ie"
      },
      "outputs": [],
      "source": [
        "# Import libraries\n",
        "import numpy as np\n",
        "import pandas as pd\n",
        "from tensorflow.keras.models import Sequential, load_model\n",
        "from tensorflow.keras.layers import LSTM, Dense\n",
        "from sklearn.preprocessing import MinMaxScaler\n",
        "from datetime import timedelta\n",
        "import tensorflow as tf\n"
      ]
    },
    {
      "cell_type": "code",
      "source": [
        "# Load dataset\n",
        "data = pd.read_csv('cuaca_data_regresi.csv', parse_dates=['time'])\n",
        "data.set_index('time', inplace=True)\n",
        "\n",
        "# Function to scale data\n",
        "def preprocess_data(data):\n",
        "    scaler = MinMaxScaler()\n",
        "    scaled_data = scaler.fit_transform(data)\n",
        "    return scaled_data, scaler\n",
        "\n",
        "# Preprocess dataset\n",
        "scaled_data, scaler = preprocess_data(data)\n"
      ],
      "metadata": {
        "id": "H0uIov5_IInj"
      },
      "execution_count": 2,
      "outputs": []
    },
    {
      "cell_type": "code",
      "source": [
        "data.info()"
      ],
      "metadata": {
        "colab": {
          "base_uri": "https://localhost:8080/"
        },
        "id": "n7rptYN2IKUL",
        "outputId": "8d4c4594-b8b6-4955-ac9e-0e442a53cbb3"
      },
      "execution_count": 3,
      "outputs": [
        {
          "output_type": "stream",
          "name": "stdout",
          "text": [
            "<class 'pandas.core.frame.DataFrame'>\n",
            "DatetimeIndex: 30104 entries, 2004-01-01 00:00:00 to 2024-08-08 18:00:00\n",
            "Data columns (total 7 columns):\n",
            " #   Column                     Non-Null Count  Dtype  \n",
            "---  ------                     --------------  -----  \n",
            " 0   temperature_2m (°C)        30104 non-null  float64\n",
            " 1   relative_humidity_2m (%)   30104 non-null  int64  \n",
            " 2   apparent_temperature (°C)  30104 non-null  float64\n",
            " 3   rain (mm)                  30104 non-null  float64\n",
            " 4   cloud_cover (%)            30104 non-null  int64  \n",
            " 5   wind_speed_10m (km/h)      30104 non-null  float64\n",
            " 6   wind_direction_10m (°)     30104 non-null  int64  \n",
            "dtypes: float64(4), int64(3)\n",
            "memory usage: 1.8 MB\n"
          ]
        }
      ]
    },
    {
      "cell_type": "code",
      "source": [
        "# Function to prepare sequences for LSTM\n",
        "def create_single_step_sequences(data, seq_length):\n",
        "    X, y = [], []\n",
        "    for i in range(len(data) - seq_length):\n",
        "        X.append(data[i:i+seq_length])\n",
        "        y.append(data[i+seq_length])\n",
        "    return np.array(X), np.array(y)\n",
        "\n",
        "\n",
        "seq_length = 1\n",
        "\n",
        "\n",
        "X, y = create_single_step_sequences(scaled_data, seq_length)\n",
        "\n",
        "\n",
        "split = int(0.8 * len(X))\n",
        "X_train, X_test = X[:split], X[split:]\n",
        "y_train, y_test = y[:split], y[split:]\n"
      ],
      "metadata": {
        "id": "YB50EExRIQNy"
      },
      "execution_count": 4,
      "outputs": []
    },
    {
      "cell_type": "code",
      "source": [
        "# Build LSTM model for single-step prediction\n",
        "model = Sequential([\n",
        "    LSTM(100, return_sequences=True, input_shape=(X_train.shape[1], X_train.shape[2])),\n",
        "    LSTM(50, return_sequences=False),\n",
        "    Dense(25, activation='relu'),\n",
        "    Dense(y_train.shape[1], activation='relu')  # Output layer\n",
        "])\n",
        "\n",
        "# Compile the model\n",
        "model.compile(optimizer='adam', loss='mean_squared_error')\n",
        "\n",
        "# Train the model\n",
        "model.fit(X_train, y_train, epochs=20, batch_size=32, validation_data=(X_test, y_test))\n",
        "\n",
        "# Save the model\n",
        "model.save('model_lstm_weather_prediction.h5')\n"
      ],
      "metadata": {
        "colab": {
          "base_uri": "https://localhost:8080/"
        },
        "id": "lkMrr6-TJ63b",
        "outputId": "48816d04-a1c5-49cf-fce1-e32cf1c214ac",
        "collapsed": true
      },
      "execution_count": 5,
      "outputs": [
        {
          "output_type": "stream",
          "name": "stdout",
          "text": [
            "Epoch 1/20\n"
          ]
        },
        {
          "output_type": "stream",
          "name": "stderr",
          "text": [
            "/usr/local/lib/python3.10/dist-packages/keras/src/layers/rnn/rnn.py:204: UserWarning: Do not pass an `input_shape`/`input_dim` argument to a layer. When using Sequential models, prefer using an `Input(shape)` object as the first layer in the model instead.\n",
            "  super().__init__(**kwargs)\n"
          ]
        },
        {
          "output_type": "stream",
          "name": "stdout",
          "text": [
            "\u001b[1m753/753\u001b[0m \u001b[32m━━━━━━━━━━━━━━━━━━━━\u001b[0m\u001b[37m\u001b[0m \u001b[1m9s\u001b[0m 7ms/step - loss: 0.1357 - val_loss: 0.1236\n",
            "Epoch 2/20\n",
            "\u001b[1m753/753\u001b[0m \u001b[32m━━━━━━━━━━━━━━━━━━━━\u001b[0m\u001b[37m\u001b[0m \u001b[1m9s\u001b[0m 6ms/step - loss: 0.1119 - val_loss: 0.1226\n",
            "Epoch 3/20\n",
            "\u001b[1m753/753\u001b[0m \u001b[32m━━━━━━━━━━━━━━━━━━━━\u001b[0m\u001b[37m\u001b[0m \u001b[1m5s\u001b[0m 6ms/step - loss: 0.1075 - val_loss: 0.1096\n",
            "Epoch 4/20\n",
            "\u001b[1m753/753\u001b[0m \u001b[32m━━━━━━━━━━━━━━━━━━━━\u001b[0m\u001b[37m\u001b[0m \u001b[1m5s\u001b[0m 6ms/step - loss: 0.1010 - val_loss: 0.1081\n",
            "Epoch 5/20\n",
            "\u001b[1m753/753\u001b[0m \u001b[32m━━━━━━━━━━━━━━━━━━━━\u001b[0m\u001b[37m\u001b[0m \u001b[1m6s\u001b[0m 8ms/step - loss: 0.1006 - val_loss: 0.1079\n",
            "Epoch 6/20\n",
            "\u001b[1m753/753\u001b[0m \u001b[32m━━━━━━━━━━━━━━━━━━━━\u001b[0m\u001b[37m\u001b[0m \u001b[1m4s\u001b[0m 5ms/step - loss: 0.0721 - val_loss: 0.0205\n",
            "Epoch 7/20\n",
            "\u001b[1m753/753\u001b[0m \u001b[32m━━━━━━━━━━━━━━━━━━━━\u001b[0m\u001b[37m\u001b[0m \u001b[1m4s\u001b[0m 6ms/step - loss: 0.0193 - val_loss: 0.0207\n",
            "Epoch 8/20\n",
            "\u001b[1m753/753\u001b[0m \u001b[32m━━━━━━━━━━━━━━━━━━━━\u001b[0m\u001b[37m\u001b[0m \u001b[1m5s\u001b[0m 6ms/step - loss: 0.0187 - val_loss: 0.0206\n",
            "Epoch 9/20\n",
            "\u001b[1m753/753\u001b[0m \u001b[32m━━━━━━━━━━━━━━━━━━━━\u001b[0m\u001b[37m\u001b[0m \u001b[1m4s\u001b[0m 6ms/step - loss: 0.0188 - val_loss: 0.0216\n",
            "Epoch 10/20\n",
            "\u001b[1m753/753\u001b[0m \u001b[32m━━━━━━━━━━━━━━━━━━━━\u001b[0m\u001b[37m\u001b[0m \u001b[1m4s\u001b[0m 6ms/step - loss: 0.0188 - val_loss: 0.0214\n",
            "Epoch 11/20\n",
            "\u001b[1m753/753\u001b[0m \u001b[32m━━━━━━━━━━━━━━━━━━━━\u001b[0m\u001b[37m\u001b[0m \u001b[1m5s\u001b[0m 7ms/step - loss: 0.0188 - val_loss: 0.0205\n",
            "Epoch 12/20\n",
            "\u001b[1m753/753\u001b[0m \u001b[32m━━━━━━━━━━━━━━━━━━━━\u001b[0m\u001b[37m\u001b[0m \u001b[1m9s\u001b[0m 5ms/step - loss: 0.0187 - val_loss: 0.0204\n",
            "Epoch 13/20\n",
            "\u001b[1m753/753\u001b[0m \u001b[32m━━━━━━━━━━━━━━━━━━━━\u001b[0m\u001b[37m\u001b[0m \u001b[1m6s\u001b[0m 7ms/step - loss: 0.0186 - val_loss: 0.0205\n",
            "Epoch 14/20\n",
            "\u001b[1m753/753\u001b[0m \u001b[32m━━━━━━━━━━━━━━━━━━━━\u001b[0m\u001b[37m\u001b[0m \u001b[1m4s\u001b[0m 5ms/step - loss: 0.0187 - val_loss: 0.0200\n",
            "Epoch 15/20\n",
            "\u001b[1m753/753\u001b[0m \u001b[32m━━━━━━━━━━━━━━━━━━━━\u001b[0m\u001b[37m\u001b[0m \u001b[1m5s\u001b[0m 5ms/step - loss: 0.0186 - val_loss: 0.0211\n",
            "Epoch 16/20\n",
            "\u001b[1m753/753\u001b[0m \u001b[32m━━━━━━━━━━━━━━━━━━━━\u001b[0m\u001b[37m\u001b[0m \u001b[1m6s\u001b[0m 6ms/step - loss: 0.0188 - val_loss: 0.0206\n",
            "Epoch 17/20\n",
            "\u001b[1m753/753\u001b[0m \u001b[32m━━━━━━━━━━━━━━━━━━━━\u001b[0m\u001b[37m\u001b[0m \u001b[1m5s\u001b[0m 6ms/step - loss: 0.0185 - val_loss: 0.0201\n",
            "Epoch 18/20\n",
            "\u001b[1m753/753\u001b[0m \u001b[32m━━━━━━━━━━━━━━━━━━━━\u001b[0m\u001b[37m\u001b[0m \u001b[1m6s\u001b[0m 7ms/step - loss: 0.0183 - val_loss: 0.0208\n",
            "Epoch 19/20\n",
            "\u001b[1m753/753\u001b[0m \u001b[32m━━━━━━━━━━━━━━━━━━━━\u001b[0m\u001b[37m\u001b[0m \u001b[1m4s\u001b[0m 5ms/step - loss: 0.0182 - val_loss: 0.0203\n",
            "Epoch 20/20\n",
            "\u001b[1m753/753\u001b[0m \u001b[32m━━━━━━━━━━━━━━━━━━━━\u001b[0m\u001b[37m\u001b[0m \u001b[1m4s\u001b[0m 5ms/step - loss: 0.0184 - val_loss: 0.0204\n"
          ]
        },
        {
          "output_type": "stream",
          "name": "stderr",
          "text": [
            "WARNING:absl:You are saving your model as an HDF5 file via `model.save()` or `keras.saving.save_model(model)`. This file format is considered legacy. We recommend using instead the native Keras format, e.g. `model.save('my_model.keras')` or `keras.saving.save_model(model, 'my_model.keras')`. \n"
          ]
        }
      ]
    },
    {
      "cell_type": "code",
      "source": [
        "import tensorflow as tf\n",
        "\n",
        "# Load the .h5 model\n",
        "model = tf.keras.models.load_model('model_lstm_weather_prediction.h5')\n",
        "\n",
        "# Convert to TFLite\n",
        "tflite_converter = tf.lite.TFLiteConverter.from_keras_model(model)\n",
        "\n",
        "# Enable optimizations to minimize file size while maintaining performance\n",
        "tflite_converter.optimizations = [tf.lite.Optimize.DEFAULT]\n",
        "\n",
        "# Specify supported operations for LSTM layers\n",
        "tflite_converter.target_spec.supported_ops = [\n",
        "    tf.lite.OpsSet.TFLITE_BUILTINS,  # Built-in TensorFlow Lite Ops\n",
        "    tf.lite.OpsSet.SELECT_TF_OPS     # TensorFlow Ops for advanced layers\n",
        "]\n",
        "\n",
        "# Ensure the LSTM layers retain resource variable handling\n",
        "tflite_converter.experimental_enable_resource_variables = True\n",
        "\n",
        "# Convert the model\n",
        "tflite_model = tflite_converter.convert()\n",
        "\n",
        "# Save the .tflite model\n",
        "with open(\"model_lstm_weather_prediction(REVISI).tflite\", \"wb\") as f:\n",
        "    f.write(tflite_model)\n",
        "\n",
        "print(\"Model successfully converted and saved as 'model_lstm_weather_prediction(REVISI).tflite'.\")\n"
      ],
      "metadata": {
        "colab": {
          "base_uri": "https://localhost:8080/"
        },
        "id": "dt9UX-_-tyxJ",
        "outputId": "65a2badb-0dae-448c-e5de-7fa72a4ad45b"
      },
      "execution_count": 12,
      "outputs": [
        {
          "output_type": "stream",
          "name": "stderr",
          "text": [
            "WARNING:absl:Compiled the loaded model, but the compiled metrics have yet to be built. `model.compile_metrics` will be empty until you train or evaluate the model.\n"
          ]
        },
        {
          "output_type": "stream",
          "name": "stdout",
          "text": [
            "Saved artifact at '/tmp/tmpghkuvnbe'. The following endpoints are available:\n",
            "\n",
            "* Endpoint 'serve'\n",
            "  args_0 (POSITIONAL_ONLY): TensorSpec(shape=(None, 1, 7), dtype=tf.float32, name='input_layer')\n",
            "Output Type:\n",
            "  TensorSpec(shape=(None, 7), dtype=tf.float32, name=None)\n",
            "Captures:\n",
            "  132639928310544: TensorSpec(shape=(), dtype=tf.resource, name=None)\n",
            "  132639928022848: TensorSpec(shape=(), dtype=tf.resource, name=None)\n",
            "  132639928317936: TensorSpec(shape=(), dtype=tf.resource, name=None)\n",
            "  132639928295216: TensorSpec(shape=(), dtype=tf.resource, name=None)\n",
            "  132639928295568: TensorSpec(shape=(), dtype=tf.resource, name=None)\n",
            "  132639928297328: TensorSpec(shape=(), dtype=tf.resource, name=None)\n",
            "  132639928298912: TensorSpec(shape=(), dtype=tf.resource, name=None)\n",
            "  132639928298384: TensorSpec(shape=(), dtype=tf.resource, name=None)\n",
            "  132639926600800: TensorSpec(shape=(), dtype=tf.resource, name=None)\n",
            "  132639926600272: TensorSpec(shape=(), dtype=tf.resource, name=None)\n",
            "Model successfully converted and saved as 'model_lstm_weather_prediction(REVISI).tflite'.\n"
          ]
        }
      ]
    },
    {
      "source": [
        "import tensorflow as tf\n",
        "#store .h5 file in your .py folder\n",
        "\n",
        "#load h5 module\n",
        "model=tf.keras.models.load_model('model_lstm_weather_prediction.h5')\n",
        "tflite_converter = tf.lite.TFLiteConverter.from_keras_model(model)\n",
        "\n",
        "# Enable resource variables for better compatibility\n",
        "tflite_converter.experimental_enable_resource_variables = True\n",
        "\n",
        "# Set the supported ops to include SELECT_TF_OPS for LSTM compatibility\n",
        "tflite_converter.target_spec.supported_ops = [\n",
        "    tf.lite.OpsSet.TFLITE_BUILTINS, tf.lite.OpsSet.SELECT_TF_OPS\n",
        "]\n",
        "\n",
        "# Disable experimental lowering of tensor list ops\n",
        "tflite_converter._experimental_lower_tensor_list_ops = False\n",
        "\n",
        "#convert\n",
        "tflite_model = tflite_converter.convert()\n",
        "open(\"model_lstm_weather_prediction(REVISI).tflite\", \"wb\").write(tflite_model)\n",
        "\n",
        "#done convertion"
      ],
      "cell_type": "code",
      "metadata": {
        "colab": {
          "base_uri": "https://localhost:8080/"
        },
        "collapsed": true,
        "id": "CtLJVcNruVQL",
        "outputId": "02909763-cb63-41cf-a2c9-7495a43402c3"
      },
      "execution_count": 11,
      "outputs": [
        {
          "output_type": "stream",
          "name": "stderr",
          "text": [
            "WARNING:absl:Compiled the loaded model, but the compiled metrics have yet to be built. `model.compile_metrics` will be empty until you train or evaluate the model.\n"
          ]
        },
        {
          "output_type": "stream",
          "name": "stdout",
          "text": [
            "Saved artifact at '/tmp/tmpkpfc22v3'. The following endpoints are available:\n",
            "\n",
            "* Endpoint 'serve'\n",
            "  args_0 (POSITIONAL_ONLY): TensorSpec(shape=(None, 1, 7), dtype=tf.float32, name='input_layer')\n",
            "Output Type:\n",
            "  TensorSpec(shape=(None, 7), dtype=tf.float32, name=None)\n",
            "Captures:\n",
            "  132639929512560: TensorSpec(shape=(), dtype=tf.resource, name=None)\n",
            "  132639929500240: TensorSpec(shape=(), dtype=tf.resource, name=None)\n",
            "  132639929513088: TensorSpec(shape=(), dtype=tf.resource, name=None)\n",
            "  132639929612096: TensorSpec(shape=(), dtype=tf.resource, name=None)\n",
            "  132639929613856: TensorSpec(shape=(), dtype=tf.resource, name=None)\n",
            "  132639929613504: TensorSpec(shape=(), dtype=tf.resource, name=None)\n",
            "  132639929536000: TensorSpec(shape=(), dtype=tf.resource, name=None)\n",
            "  132639929535472: TensorSpec(shape=(), dtype=tf.resource, name=None)\n",
            "  132639929541632: TensorSpec(shape=(), dtype=tf.resource, name=None)\n",
            "  132639929542512: TensorSpec(shape=(), dtype=tf.resource, name=None)\n"
          ]
        },
        {
          "output_type": "execute_result",
          "data": {
            "text/plain": [
              "317804"
            ]
          },
          "metadata": {},
          "execution_count": 11
        }
      ]
    },
    {
      "cell_type": "code",
      "source": [
        "import json\n",
        "\n",
        "# Simpan parameter scaler\n",
        "scaler_params = {\n",
        "    \"min\": scaler.data_min_.tolist(),\n",
        "    \"max\": scaler.data_max_.tolist(),\n",
        "    \"feature_range\": scaler.feature_range\n",
        "}\n",
        "\n",
        "with open(\"scaler_params.json\", \"w\") as json_file:\n",
        "    json.dump(scaler_params, json_file)\n",
        "\n",
        "print(\"Scaler berhasil disimpan dalam file JSON.\")\n"
      ],
      "metadata": {
        "id": "6rEHTumFnKeM",
        "colab": {
          "base_uri": "https://localhost:8080/"
        },
        "outputId": "fca4a51e-2c4c-4d46-ca66-90b9c3fa1c80"
      },
      "execution_count": 6,
      "outputs": [
        {
          "output_type": "stream",
          "name": "stdout",
          "text": [
            "Scaler berhasil disimpan dalam file JSON.\n"
          ]
        }
      ]
    },
    {
      "cell_type": "code",
      "source": [
        "# Load the saved model\n",
        "model = load_model('model_lstm_weather_prediction.h5')\n",
        "\n",
        "# Example user input weather data\n",
        "user_input_weather = {\n",
        "    \"temperature_2m (°C)\": 26.3,\n",
        "    \"relative_humidity_2m (%)\": 91,\n",
        "    \"apparent_temperature (°C)\": 31.5,\n",
        "    \"rain (mm)\": 0.0,\n",
        "    \"cloud_cover (%)\": 100,\n",
        "    \"wind_speed_10m (km/h)\": 9.4,\n",
        "    \"wind_direction_10m (°)\": 94\n",
        "}\n",
        "\n",
        "# Function to scale the user input\n",
        "def scale_user_input(user_input, scaler, data_columns):\n",
        "    input_df = pd.DataFrame([user_input])[data_columns]\n",
        "    scaled_input = scaler.transform(input_df)\n",
        "    return scaled_input\n",
        "\n",
        "# Prepare the scaled input\n",
        "data_columns = list(data.columns)  # Ensure column order matches dataset\n",
        "scaled_user_input = scale_user_input(user_input_weather, scaler, data_columns)\n",
        "\n",
        "# Make it a sequence (pad to match sequence length)\n",
        "padded_sequence = np.zeros((seq_length, len(data_columns)))  # Initialize empty sequence\n",
        "padded_sequence[-1, :] = scaled_user_input  # Add the user input at the last time step\n",
        "padded_sequence = np.expand_dims(padded_sequence, axis=0)  # Reshape for LSTM input\n",
        "\n",
        "# Predict using the model\n",
        "prediction_scaled = model.predict(padded_sequence)\n",
        "\n",
        "# Reverse scaling for the prediction\n",
        "predicted_weather = scaler.inverse_transform(prediction_scaled)[0]\n",
        "\n",
        "# Display predicted weather\n",
        "predicted_result = dict(zip(data_columns, predicted_weather))\n",
        "print(\"Predicted weather 6 hours ahead:\")\n",
        "print(predicted_result)\n"
      ],
      "metadata": {
        "colab": {
          "base_uri": "https://localhost:8080/"
        },
        "id": "AWmiw34gv8uR",
        "outputId": "efa86b16-efd5-4037-ef13-41975e2e7e52"
      },
      "execution_count": 7,
      "outputs": [
        {
          "output_type": "stream",
          "name": "stderr",
          "text": [
            "WARNING:absl:Compiled the loaded model, but the compiled metrics have yet to be built. `model.compile_metrics` will be empty until you train or evaluate the model.\n"
          ]
        },
        {
          "output_type": "stream",
          "name": "stdout",
          "text": [
            "\u001b[1m1/1\u001b[0m \u001b[32m━━━━━━━━━━━━━━━━━━━━\u001b[0m\u001b[37m\u001b[0m \u001b[1m0s\u001b[0m 460ms/step\n",
            "Predicted weather 6 hours ahead:\n",
            "{'temperature_2m (°C)': 25.778072, 'relative_humidity_2m (%)': 89.332695, 'apparent_temperature (°C)': 30.723717, 'rain (mm)': 0.0, 'cloud_cover (%)': 85.2355, 'wind_speed_10m (km/h)': 8.215472, 'wind_direction_10m (°)': 96.077255}\n"
          ]
        }
      ]
    },
    {
      "cell_type": "code",
      "source": [
        "# Load the saved model\n",
        "model = load_model('model_lstm_weather_prediction.h5')\n",
        "\n",
        "# Example user input weather data\n",
        "user_input_weather = {\n",
        "    \"temperature_2m (°C)\": 25.778072,\n",
        "    \"relative_humidity_2m (%)\": 89.332695,\n",
        "    \"apparent_temperature (°C)\": 30.723717,\n",
        "    \"rain (mm)\": 0.0,\n",
        "    \"cloud_cover (%)\": 85.2355,\n",
        "    \"wind_speed_10m (km/h)\": 8.215472,\n",
        "    \"wind_direction_10m (°)\": 96.077255\n",
        "}\n",
        "\n",
        "# Function to scale the user input\n",
        "def scale_user_input(user_input, scaler, data_columns):\n",
        "    input_df = pd.DataFrame([user_input])[data_columns]\n",
        "    scaled_input = scaler.transform(input_df)\n",
        "    return scaled_input\n",
        "\n",
        "# Prepare the scaled input\n",
        "data_columns = list(data.columns)  # Ensure column order matches dataset\n",
        "scaled_user_input = scale_user_input(user_input_weather, scaler, data_columns)\n",
        "\n",
        "# Make it a sequence (pad to match sequence length)\n",
        "padded_sequence = np.zeros((seq_length, len(data_columns)))  # Initialize empty sequence\n",
        "padded_sequence[-1, :] = scaled_user_input  # Add the user input at the last time step\n",
        "padded_sequence = np.expand_dims(padded_sequence, axis=0)  # Reshape for LSTM input\n",
        "\n",
        "# Predict using the model\n",
        "prediction_scaled = model.predict(padded_sequence)\n",
        "\n",
        "# Reverse scaling for the prediction\n",
        "predicted_weather = scaler.inverse_transform(prediction_scaled)[0]\n",
        "\n",
        "# Display predicted weather\n",
        "predicted_result = dict(zip(data_columns, predicted_weather))\n",
        "print(\"Predicted weather 6 hours ahead:\")\n",
        "print(predicted_result)\n"
      ],
      "metadata": {
        "colab": {
          "base_uri": "https://localhost:8080/"
        },
        "id": "ZCiC4qSBwJbg",
        "outputId": "05fba26e-4d7b-4d44-c4ae-5346a8be5b0f"
      },
      "execution_count": 8,
      "outputs": [
        {
          "output_type": "stream",
          "name": "stderr",
          "text": [
            "WARNING:absl:Compiled the loaded model, but the compiled metrics have yet to be built. `model.compile_metrics` will be empty until you train or evaluate the model.\n"
          ]
        },
        {
          "output_type": "stream",
          "name": "stdout",
          "text": [
            "\u001b[1m1/1\u001b[0m \u001b[32m━━━━━━━━━━━━━━━━━━━━\u001b[0m\u001b[37m\u001b[0m \u001b[1m0s\u001b[0m 297ms/step\n",
            "Predicted weather 6 hours ahead:\n",
            "{'temperature_2m (°C)': 26.039263, 'relative_humidity_2m (%)': 85.143425, 'apparent_temperature (°C)': 30.59715, 'rain (mm)': 0.0, 'cloud_cover (%)': 73.66799, 'wind_speed_10m (km/h)': 8.424507, 'wind_direction_10m (°)': 99.780525}\n"
          ]
        }
      ]
    },
    {
      "cell_type": "code",
      "source": [
        "import tensorflow as tf\n",
        "import numpy as np\n",
        "from sklearn.preprocessing import MinMaxScaler\n",
        "\n",
        "# Load the .tflite model\n",
        "interpreter = tf.lite.Interpreter(model_path=\"weather_prediction.tflite\")\n",
        "interpreter.allocate_tensors()\n",
        "\n",
        "# Get input and output details\n",
        "input_details = interpreter.get_input_details()\n",
        "output_details = interpreter.get_output_details()\n",
        "\n",
        "# Raw input data\n",
        "raw_input_data = np.array([[26.6, 91, 32.9, 0.0, 96, 3.6, 270]], dtype=np.float32)\n",
        "\n",
        "# Simulate dataset columns for scaling consistency\n",
        "data_columns = [\n",
        "    \"temperature_2m (°C)\",\n",
        "    \"relative_humidity_2m (%)\",\n",
        "    \"apparent_temperature (°C)\",\n",
        "    \"rain (mm)\",\n",
        "    \"cloud_cover (%)\",\n",
        "    \"wind_speed_10m (km/h)\",\n",
        "    \"wind_direction_10m (°)\"\n",
        "]\n",
        "\n",
        "# Load dataset and fit scaler\n",
        "from pandas import read_csv\n",
        "training_data = read_csv(\"cuaca_data_regresi.csv\")[data_columns]\n",
        "scaler = MinMaxScaler(feature_range=(0, 1))\n",
        "scaler.fit(training_data)\n",
        "\n",
        "# Scale raw input data\n",
        "scaled_input_data = scaler.transform(raw_input_data)\n",
        "\n",
        "# Add sequence length dimension (sequence length = 1)\n",
        "scaled_input_data = np.expand_dims(scaled_input_data, axis=1).astype(np.float32)\n",
        "\n",
        "# Set the input tensor for inference\n",
        "interpreter.set_tensor(input_details[0]['index'], scaled_input_data)\n",
        "\n",
        "# Run inference\n",
        "interpreter.invoke()\n",
        "\n",
        "# Get the output tensor and reverse scale\n",
        "prediction_scaled = interpreter.get_tensor(output_details[0]['index'])\n",
        "predicted_weather = scaler.inverse_transform(prediction_scaled)[0]\n",
        "\n",
        "# Map the predicted values to column names\n",
        "predicted_result = dict(zip(data_columns, predicted_weather))\n",
        "\n",
        "# Display the predicted weather\n",
        "print(\"Predicted weather 6 hours ahead:\")\n",
        "print(predicted_result)\n"
      ],
      "metadata": {
        "colab": {
          "base_uri": "https://localhost:8080/"
        },
        "id": "ghfAVe2btP6I",
        "outputId": "a57e934e-33dd-45a5-96f5-7f3e3b7fca55"
      },
      "execution_count": null,
      "outputs": [
        {
          "output_type": "stream",
          "name": "stdout",
          "text": [
            "Predicted weather 6 hours ahead:\n",
            "{'temperature_2m (°C)': 26.106104, 'relative_humidity_2m (%)': 90.997574, 'apparent_temperature (°C)': 31.316368, 'rain (mm)': 45.96852, 'cloud_cover (%)': 3.8965127, 'wind_speed_10m (km/h)': 30.233658, 'wind_direction_10m (°)': 3.0000002}\n"
          ]
        },
        {
          "output_type": "stream",
          "name": "stderr",
          "text": [
            "/usr/local/lib/python3.10/dist-packages/sklearn/utils/validation.py:2739: UserWarning: X does not have valid feature names, but MinMaxScaler was fitted with feature names\n",
            "  warnings.warn(\n"
          ]
        }
      ]
    },
    {
      "cell_type": "code",
      "source": [
        "from sklearn.metrics import mean_squared_error, mean_absolute_error, r2_score\n",
        "\n",
        "# Predict on test data\n",
        "y_pred = model.predict(X_test)\n",
        "\n",
        "# Reverse scaling to get original values\n",
        "y_test_original = scaler.inverse_transform(y_test)\n",
        "y_pred_original = scaler.inverse_transform(y_pred)\n",
        "\n",
        "# Compute metrics\n",
        "rmse = np.sqrt(mean_squared_error(y_test_original, y_pred_original))\n",
        "mae = mean_absolute_error(y_test_original, y_pred_original)\n",
        "r2 = r2_score(y_test_original, y_pred_original)\n",
        "\n",
        "print(\"Evaluation Metrics:\")\n",
        "print(f\"RMSE: {rmse:.2f}\")\n",
        "print(f\"MAE: {mae:.2f}\")\n",
        "print(f\"R² Score: {r2:.2f}\")\n"
      ],
      "metadata": {
        "colab": {
          "base_uri": "https://localhost:8080/"
        },
        "id": "OBrV_eleQDkw",
        "outputId": "335fd054-f60f-433c-9d9b-c28d955d494d"
      },
      "execution_count": null,
      "outputs": [
        {
          "output_type": "stream",
          "name": "stdout",
          "text": [
            "\u001b[1m189/189\u001b[0m \u001b[32m━━━━━━━━━━━━━━━━━━━━\u001b[0m\u001b[37m\u001b[0m \u001b[1m3s\u001b[0m 10ms/step\n",
            "Evaluation Metrics:\n",
            "RMSE: 29.99\n",
            "MAE: 15.79\n",
            "R² Score: -3.07\n"
          ]
        }
      ]
    },
    {
      "cell_type": "code",
      "source": [
        "from sklearn.metrics import mean_absolute_error\n",
        "from sklearn.metrics import mean_squared_error\n",
        "from sklearn.metrics import r2_score\n",
        "import numpy as np\n",
        "\n",
        "# Prediksi model\n",
        "y_pred = model.predict(X_test)\n",
        "\n",
        "\n",
        "# Hitung MAE\n",
        "mae = mean_absolute_error(y_test, y_pred)\n",
        "print(\"Mean Absolute Error (MAE):\", mae)\n",
        "# Hitung MSE\n",
        "mse = mean_squared_error(y_test, y_pred)\n",
        "print(\"Mean Squared Error (MSE):\", mse)\n",
        "r2 = r2_score(y_test, y_pred)\n",
        "print(\"R2 score: \", r2)\n",
        "# Hitung RMSE\n",
        "rmse = np.sqrt(mse)\n",
        "print(\"Root Mean Squared Error (RMSE):\", rmse)"
      ],
      "metadata": {
        "colab": {
          "base_uri": "https://localhost:8080/"
        },
        "id": "m-wT23lCQM_u",
        "outputId": "8898ef11-f7cf-40e7-dd7e-a8f4b25b0018"
      },
      "execution_count": null,
      "outputs": [
        {
          "output_type": "stream",
          "name": "stdout",
          "text": [
            "\u001b[1m189/189\u001b[0m \u001b[32m━━━━━━━━━━━━━━━━━━━━\u001b[0m\u001b[37m\u001b[0m \u001b[1m1s\u001b[0m 7ms/step\n",
            "Mean Absolute Error (MAE): 0.17186494116699016\n",
            "Mean Squared Error (MSE): 0.10236763313850249\n",
            "R2 score:  -3.068557098484187\n",
            "Root Mean Squared Error (RMSE): 0.3199494227819492\n"
          ]
        }
      ]
    },
    {
      "cell_type": "code",
      "source": [
        "for i in range(y_test_original.shape[1]):\n",
        "    feature_rmse = np.sqrt(mean_squared_error(y_test_original[:, i], y_pred_original[:, i]))\n",
        "    feature_mae = mean_absolute_error(y_test_original[:, i], y_pred_original[:, i])\n",
        "    print(f\"Feature {i + 1}: RMSE = {feature_rmse:.2f}, MAE = {feature_mae:.2f}\")\n"
      ],
      "metadata": {
        "colab": {
          "base_uri": "https://localhost:8080/"
        },
        "id": "824u4F0rQU75",
        "outputId": "c9c41223-e872-47bc-b884-9390444010d4"
      },
      "execution_count": null,
      "outputs": [
        {
          "output_type": "stream",
          "name": "stdout",
          "text": [
            "Feature 1: RMSE = 0.80, MAE = 0.59\n",
            "Feature 2: RMSE = 59.38, MAE = 58.20\n",
            "Feature 3: RMSE = 1.06, MAE = 0.82\n",
            "Feature 4: RMSE = 5.04, MAE = 1.73\n",
            "Feature 5: RMSE = 23.42, MAE = 16.71\n",
            "Feature 6: RMSE = 3.70, MAE = 2.89\n",
            "Feature 7: RMSE = 46.69, MAE = 29.56\n"
          ]
        }
      ]
    },
    {
      "cell_type": "code",
      "source": [
        "import matplotlib.pyplot as plt\n",
        "\n",
        "# Plot true vs. predicted values\n",
        "plt.figure(figsize=(12, 6))\n",
        "plt.plot(y_test_original.flatten(), label=\"Actual Data\", alpha=0.7)\n",
        "plt.plot(y_pred_original.flatten(), label=\"Predicted Data\", alpha=0.7)\n",
        "plt.title(\"True vs Predicted Values\")\n",
        "plt.xlabel(\"Time Step\")\n",
        "plt.ylabel(\"Weather Features\")\n",
        "plt.legend()\n",
        "plt.show()\n"
      ],
      "metadata": {
        "colab": {
          "base_uri": "https://localhost:8080/",
          "height": 564
        },
        "id": "m8eC4e1_Qeng",
        "outputId": "6f447ea2-e13d-421a-e6c4-b0deb3aeb101"
      },
      "execution_count": null,
      "outputs": [
        {
          "output_type": "display_data",
          "data": {
            "text/plain": [
              "<Figure size 1200x600 with 1 Axes>"
            ],
            "image/png": "[encoded data removed]"
          },
          "metadata": {}
        }
      ]
    },
    {
      "cell_type": "code",
      "source": [
        "# Calculate absolute error\n",
        "absolute_error = np.abs(y_test_original - y_pred_original)\n",
        "\n",
        "# Plot absolute error over time\n",
        "plt.figure(figsize=(12, 6))\n",
        "plt.plot(absolute_error.flatten(), label=\"Absolute Error\", color='r')\n",
        "plt.title(\"Absolute Error over Time\")\n",
        "plt.xlabel(\"Time Step\")\n",
        "plt.ylabel(\"Error\")\n",
        "plt.legend()\n",
        "plt.show()\n"
      ],
      "metadata": {
        "colab": {
          "base_uri": "https://localhost:8080/",
          "height": 564
        },
        "id": "9XPKiON8Qa_o",
        "outputId": "9f5659ba-4d85-4e8c-9803-53425b98fc5f"
      },
      "execution_count": null,
      "outputs": [
        {
          "output_type": "display_data",
          "data": {
            "text/plain": [
              "<Figure size 1200x600 with 1 Axes>"
            ],
            "image/png": "[encoded data removed]"
          },
          "metadata": {}
        }
      ]
    },
    {
      "cell_type": "code",
      "source": [
        "# Load the saved model\n",
        "model = load_model('model_lstm_weather_prediction.h5')\n",
        "\n",
        "# Example user input weather data\n",
        "user_input_weather = {\n",
        "    \"temperature_2m (°C)\": 26.3,\n",
        "    \"relative_humidity_2m (%)\": 91,\n",
        "    \"apparent_temperature (°C)\": 31.5,\n",
        "    \"rain (mm)\": 0.0,\n",
        "    \"cloud_cover (%)\": 100,\n",
        "    \"wind_speed_10m (km/h)\": 9.4,\n",
        "    \"wind_direction_10m (°)\": 94\n",
        "}\n",
        "\n",
        "# Function to scale the user input\n",
        "def scale_user_input(user_input, scaler, data_columns):\n",
        "    input_df = pd.DataFrame([user_input])[data_columns]\n",
        "    scaled_input = scaler.transform(input_df)\n",
        "    return scaled_input\n",
        "\n",
        "# Prepare the scaled input\n",
        "data_columns = list(data.columns)  # Ensure column order matches dataset\n",
        "scaled_user_input = scale_user_input(user_input_weather, scaler, data_columns)\n",
        "\n",
        "# Make it a sequence (pad to match sequence length)\n",
        "padded_sequence = np.zeros((seq_length, len(data_columns)))  # Initialize empty sequence\n",
        "padded_sequence[-1, :] = scaled_user_input  # Add the user input at the last time step\n",
        "padded_sequence = np.expand_dims(padded_sequence, axis=0)  # Reshape for LSTM input\n",
        "\n",
        "# Predict using the model\n",
        "prediction_scaled = model.predict(padded_sequence)\n",
        "\n",
        "# Reverse scaling for the prediction\n",
        "predicted_weather = scaler.inverse_transform(prediction_scaled)[0]\n",
        "\n",
        "# Display predicted weather\n",
        "predicted_result = dict(zip(data_columns, predicted_weather))\n",
        "print(\"Predicted weather 6 hours ahead:\")\n",
        "print(predicted_result)\n"
      ],
      "metadata": {
        "colab": {
          "base_uri": "https://localhost:8080/"
        },
        "id": "nLBMYUOFJ8Na",
        "outputId": "f9b0eea0-5009-4295-d1e3-42e5d98a5036"
      },
      "execution_count": null,
      "outputs": [
        {
          "output_type": "stream",
          "name": "stderr",
          "text": [
            "WARNING:absl:Compiled the loaded model, but the compiled metrics have yet to be built. `model.compile_metrics` will be empty until you train or evaluate the model.\n"
          ]
        },
        {
          "output_type": "stream",
          "name": "stdout",
          "text": [
            "\u001b[1m1/1\u001b[0m \u001b[32m━━━━━━━━━━━━━━━━━━━━\u001b[0m\u001b[37m\u001b[0m \u001b[1m1s\u001b[0m 663ms/step\n",
            "Predicted weather 6 hours ahead:\n",
            "{'temperature_2m (°C)': 26.470573, 'relative_humidity_2m (%)': 90.328835, 'apparent_temperature (°C)': 31.551533, 'rain (mm)': 0.0, 'cloud_cover (%)': 87.21225, 'wind_speed_10m (km/h)': 8.908275, 'wind_direction_10m (°)': 113.64468}\n"
          ]
        }
      ]
    },
    {
      "cell_type": "code",
      "source": [
        "# Load the saved model\n",
        "model = load_model('model_lstm_weather_prediction.h5')\n",
        "\n",
        "# Example user input weather data\n",
        "user_input_weather = {\n",
        "    \"temperature_2m (°C)\": 26.3,\n",
        "    \"relative_humidity_2m (%)\": 91,\n",
        "    \"apparent_temperature (°C)\": 31.5,\n",
        "    \"rain (mm)\": 0.0,\n",
        "    \"cloud_cover (%)\": 100,\n",
        "    \"wind_speed_10m (km/h)\": 9.4,\n",
        "    \"wind_direction_10m (°)\": 94\n",
        "}\n",
        "\n",
        "# Function to scale the user input\n",
        "def scale_user_input(user_input, scaler, data_columns):\n",
        "    input_df = pd.DataFrame([user_input])[data_columns]\n",
        "    scaled_input = scaler.transform(input_df)\n",
        "    return scaled_input\n",
        "\n",
        "# Prepare the scaled input\n",
        "data_columns = list(data.columns)  # Ensure column order matches dataset\n",
        "scaled_user_input = scale_user_input(user_input_weather, scaler, data_columns)\n",
        "\n",
        "# Make it a sequence (pad to match sequence length)\n",
        "padded_sequence = np.zeros((seq_length, len(data_columns)))  # Initialize empty sequence\n",
        "padded_sequence[-1, :] = scaled_user_input  # Add the user input at the last time step\n",
        "padded_sequence = np.expand_dims(padded_sequence, axis=0)  # Reshape for LSTM input\n",
        "\n",
        "# Predict using the model\n",
        "prediction_scaled = model.predict(padded_sequence)\n",
        "\n",
        "# Reverse scaling for the prediction\n",
        "predicted_weather = scaler.inverse_transform(prediction_scaled)[0]\n",
        "\n",
        "# Display predicted weather\n",
        "predicted_result = dict(zip(data_columns, predicted_weather))\n",
        "print(\"Predicted weather 6 hours ahead:\")\n",
        "print(predicted_result)\n"
      ],
      "metadata": {
        "colab": {
          "base_uri": "https://localhost:8080/"
        },
        "id": "ftQiZzY5UjKc",
        "outputId": "b50770e7-afdb-4fb6-f5a9-021f8acb8f8b"
      },
      "execution_count": null,
      "outputs": [
        {
          "output_type": "stream",
          "name": "stderr",
          "text": [
            "WARNING:absl:Compiled the loaded model, but the compiled metrics have yet to be built. `model.compile_metrics` will be empty until you train or evaluate the model.\n"
          ]
        },
        {
          "output_type": "stream",
          "name": "stdout",
          "text": [
            "\u001b[1m1/1\u001b[0m \u001b[32m━━━━━━━━━━━━━━━━━━━━\u001b[0m\u001b[37m\u001b[0m \u001b[1m0s\u001b[0m 425ms/step\n",
            "Predicted weather 6 hours ahead:\n",
            "{'temperature_2m (°C)': 25.716726, 'relative_humidity_2m (%)': 25.0, 'apparent_temperature (°C)': 27.643728, 'rain (mm)': 0.0, 'cloud_cover (%)': 72.36143, 'wind_speed_10m (km/h)': 7.105435, 'wind_direction_10m (°)': 130.76617}\n"
          ]
        }
      ]
    },
    {
      "cell_type": "code",
      "source": [
        "# Load the saved model\n",
        "model = load_model('model_lstm_weather_prediction.h5')\n",
        "\n",
        "# Example user input weather data\n",
        "user_input_weather = {\n",
        "    \"temperature_2m (°C)\": 26.3,\n",
        "    \"relative_humidity_2m (%)\": 91,\n",
        "    \"apparent_temperature (°C)\": 31.5,\n",
        "    \"rain (mm)\": 0.0,\n",
        "    \"cloud_cover (%)\": 100,\n",
        "    \"wind_speed_10m (km/h)\": 9.4,\n",
        "    \"wind_direction_10m (°)\": 94\n",
        "}\n",
        "\n",
        "# Function to scale the user input\n",
        "def scale_user_input(user_input, scaler, data_columns):\n",
        "    input_df = pd.DataFrame([user_input])[data_columns]\n",
        "    scaled_input = scaler.transform(input_df)\n",
        "    return scaled_input\n",
        "\n",
        "# Prepare the scaled input\n",
        "data_columns = list(data.columns)  # Ensure column order matches dataset\n",
        "scaled_user_input = scale_user_input(user_input_weather, scaler, data_columns)\n",
        "\n",
        "# Make it a sequence (pad to match sequence length)\n",
        "padded_sequence = np.zeros((seq_length, len(data_columns)))  # Initialize empty sequence\n",
        "padded_sequence[-1, :] = scaled_user_input  # Add the user input at the last time step\n",
        "padded_sequence = np.expand_dims(padded_sequence, axis=0)  # Reshape for LSTM input\n",
        "\n",
        "# Predict using the model\n",
        "prediction_scaled = model.predict(padded_sequence)\n",
        "\n",
        "# Reverse scaling for the prediction\n",
        "predicted_weather = scaler.inverse_transform(prediction_scaled)[0]\n",
        "\n",
        "# Display predicted weather\n",
        "predicted_result = dict(zip(data_columns, predicted_weather))\n",
        "print(\"Predicted weather 6 hours ahead:\")\n",
        "print(predicted_result)\n"
      ],
      "metadata": {
        "colab": {
          "base_uri": "https://localhost:8080/"
        },
        "id": "5dvJVxQLejEl",
        "outputId": "ea65a30e-3b4a-4e18-bb9d-462a778e667e"
      },
      "execution_count": null,
      "outputs": [
        {
          "output_type": "stream",
          "name": "stderr",
          "text": [
            "WARNING:absl:Compiled the loaded model, but the compiled metrics have yet to be built. `model.compile_metrics` will be empty until you train or evaluate the model.\n"
          ]
        },
        {
          "output_type": "stream",
          "name": "stdout",
          "text": [
            "\u001b[1m1/1\u001b[0m \u001b[32m━━━━━━━━━━━━━━━━━━━━\u001b[0m\u001b[37m\u001b[0m \u001b[1m0s\u001b[0m 261ms/step\n",
            "Predicted weather 6 hours ahead:\n",
            "{'temperature_2m (°C)': 26.358881, 'relative_humidity_2m (%)': 90.50981, 'apparent_temperature (°C)': 31.48213, 'rain (mm)': 1.215822, 'cloud_cover (%)': 87.23064, 'wind_speed_10m (km/h)': 9.143163, 'wind_direction_10m (°)': 109.74032}\n"
          ]
        }
      ]
    },
    {
      "cell_type": "code",
      "source": [
        "# Simpan model ke format SavedModel (protokol buffer format .pb)\n",
        "model.export(\"saved_model_weather\")\n",
        "\n",
        "# import tensorflow as tf\n",
        "# # Simpan ulang dari file .h5\n",
        "# model = tf.keras.models.load_model(\"model_lstm_weather_prediction.h5\")\n",
        "# model.save(\"/content/saved_model_lstm\")\n",
        "# print(\"Model disimpan ulang dalam format SavedModel.\")\n"
      ],
      "metadata": {
        "colab": {
          "base_uri": "https://localhost:8080/"
        },
        "id": "QLZHvPboRLfa",
        "outputId": "a00d9552-9af9-4736-8834-fa0f9aec1a8f"
      },
      "execution_count": null,
      "outputs": [
        {
          "output_type": "stream",
          "name": "stdout",
          "text": [
            "Saved artifact at 'saved_model_weather'. The following endpoints are available:\n",
            "\n",
            "* Endpoint 'serve'\n",
            "  args_0 (POSITIONAL_ONLY): TensorSpec(shape=(None, 1, 7), dtype=tf.float32, name='input_layer')\n",
            "Output Type:\n",
            "  TensorSpec(shape=(None, 7), dtype=tf.float32, name=None)\n",
            "Captures:\n",
            "  137099408416736: TensorSpec(shape=(), dtype=tf.resource, name=None)\n",
            "  137099448275136: TensorSpec(shape=(), dtype=tf.resource, name=None)\n",
            "  137099408188240: TensorSpec(shape=(), dtype=tf.resource, name=None)\n",
            "  137099398701728: TensorSpec(shape=(), dtype=tf.resource, name=None)\n",
            "  137099398702080: TensorSpec(shape=(), dtype=tf.resource, name=None)\n",
            "  137099398703840: TensorSpec(shape=(), dtype=tf.resource, name=None)\n",
            "  137099408424480: TensorSpec(shape=(), dtype=tf.resource, name=None)\n",
            "  137099398706304: TensorSpec(shape=(), dtype=tf.resource, name=None)\n",
            "  137099398825936: TensorSpec(shape=(), dtype=tf.resource, name=None)\n",
            "  137099398825408: TensorSpec(shape=(), dtype=tf.resource, name=None)\n"
          ]
        }
      ]
    },
    {
      "source": [
        "import tensorflow as tf\n",
        "\n",
        "# Load the SavedModel\n",
        "saved_model_dir = \"saved_model_weather\"\n",
        "\n",
        "# Create the converter\n",
        "converter = tf.lite.TFLiteConverter.from_saved_model(saved_model_dir)\n",
        "\n",
        "# Enable resource variables for better compatibility\n",
        "converter.experimental_enable_resource_variables = True\n",
        "\n",
        "# Set the supported ops to include SELECT_TF_OPS for LSTM compatibility\n",
        "converter.target_spec.supported_ops = [\n",
        "    tf.lite.OpsSet.TFLITE_BUILTINS, tf.lite.OpsSet.SELECT_TF_OPS\n",
        "]\n",
        "\n",
        "# Disable experimental lowering of tensor list ops\n",
        "converter._experimental_lower_tensor_list_ops = False\n",
        "\n",
        "# Convert the model\n",
        "tflite_model = converter.convert()\n",
        "\n",
        "# Save the TFLite model\n",
        "with open(\"weather_prediction(2.0).tflite\", \"wb\") as f:\n",
        "    f.write(tflite_model)\n",
        "\n",
        "print(\"Model has been converted to TFLite format and saved as 'weather_prediction.tflite'.\")"
      ],
      "cell_type": "code",
      "metadata": {
        "colab": {
          "base_uri": "https://localhost:8080/"
        },
        "id": "AlkUTVJYSmsQ",
        "outputId": "27c170fe-5d72-4e68-92fa-45e573093277"
      },
      "execution_count": null,
      "outputs": [
        {
          "output_type": "stream",
          "name": "stdout",
          "text": [
            "Model has been converted to TFLite format and saved as 'weather_prediction.tflite'.\n"
          ]
        }
      ]
    },
    {
      "cell_type": "code",
      "source": [
        "# Load the TFLite model\n",
        "interpreter = tf.lite.Interpreter(model_path=\"weather_prediction(2.0).tflite\")\n",
        "interpreter.allocate_tensors()\n",
        "\n",
        "# Print input/output details\n",
        "input_details = interpreter.get_input_details()\n",
        "output_details = interpreter.get_output_details()\n",
        "\n",
        "print(\"Input details:\", input_details)\n",
        "print(\"Output details:\", output_details)\n"
      ],
      "metadata": {
        "colab": {
          "base_uri": "https://localhost:8080/"
        },
        "id": "yJjb2oyySvuA",
        "outputId": "ee04fd67-7662-46de-8fca-218df592abef"
      },
      "execution_count": null,
      "outputs": [
        {
          "output_type": "stream",
          "name": "stdout",
          "text": [
            "Input details: [{'name': 'serving_default_input_layer:0', 'index': 0, 'shape': array([1, 1, 7], dtype=int32), 'shape_signature': array([-1,  1,  7], dtype=int32), 'dtype': <class 'numpy.float32'>, 'quantization': (0.0, 0), 'quantization_parameters': {'scales': array([], dtype=float32), 'zero_points': array([], dtype=int32), 'quantized_dimension': 0}, 'sparsity_parameters': {}}]\n",
            "Output details: [{'name': 'StatefulPartitionedCall_1:0', 'index': 46, 'shape': array([1, 7], dtype=int32), 'shape_signature': array([-1,  7], dtype=int32), 'dtype': <class 'numpy.float32'>, 'quantization': (0.0, 0), 'quantization_parameters': {'scales': array([], dtype=float32), 'zero_points': array([], dtype=int32), 'quantized_dimension': 0}, 'sparsity_parameters': {}}]\n"
          ]
        }
      ]
    },
    {
      "cell_type": "code",
      "source": [
        "# prompt: evaluasi model gunakan rmse rms dan lain lain\n",
        "\n",
        "from sklearn.metrics import mean_squared_error, mean_absolute_error\n",
        "import math\n",
        "\n",
        "# Make predictions on the test data\n",
        "y_pred = model.predict(X_test)\n",
        "\n",
        "# Inverse transform the scaled predictions and actual values\n",
        "y_pred_inv = scaler.inverse_transform(y_pred)\n",
        "y_test_inv = scaler.inverse_transform(y_test)\n",
        "\n",
        "# Calculate RMSE\n",
        "rmse = math.sqrt(mean_squared_error(y_test_inv, y_pred_inv))\n",
        "print(f\"Root Mean Squared Error (RMSE): {rmse}\")\n",
        "\n",
        "# Calculate RMS\n",
        "rms = np.sqrt(np.mean(np.square(y_test_inv - y_pred_inv)))\n",
        "print(f\"Root Mean Square (RMS): {rms}\")\n",
        "\n",
        "# Calculate MAE\n",
        "mae = mean_absolute_error(y_test_inv, y_pred_inv)\n",
        "print(f\"Mean Absolute Error (MAE): {mae}\")"
      ],
      "metadata": {
        "colab": {
          "base_uri": "https://localhost:8080/"
        },
        "id": "lqQIVfxFOaWd",
        "outputId": "46427886-e5da-47cb-a1b2-b40a232ec013"
      },
      "execution_count": null,
      "outputs": [
        {
          "output_type": "stream",
          "name": "stdout",
          "text": [
            "\u001b[1m189/189\u001b[0m \u001b[32m━━━━━━━━━━━━━━━━━━━━\u001b[0m\u001b[37m\u001b[0m \u001b[1m1s\u001b[0m 2ms/step\n",
            "Root Mean Squared Error (RMSE): 23.720587939575214\n",
            "Root Mean Square (RMS): 23.72058793957543\n",
            "Mean Absolute Error (MAE): 9.966485020224724\n"
          ]
        }
      ]
    },
    {
      "cell_type": "code",
      "source": [
        "from sklearn.metrics import mean_absolute_error\n",
        "from sklearn.metrics import mean_squared_error\n",
        "import numpy as np\n",
        "\n",
        "# Prediksi model\n",
        "y_pred = model.predict(X_test)\n",
        "\n",
        "\n",
        "# Hitung MAE\n",
        "mae = mean_absolute_error(y_test, y_pred)\n",
        "print(\"Mean Absolute Error (MAE):\", mae)\n",
        "# Hitung MSE\n",
        "mse = mean_squared_error(y_test, y_pred)\n",
        "print(\"Mean Squared Error (MSE):\", mse)\n",
        "\n",
        "# Hitung RMSE\n",
        "rmse = np.sqrt(mse)\n",
        "print(\"Root Mean Squared Error (RMSE):\", rmse)"
      ],
      "metadata": {
        "colab": {
          "base_uri": "https://localhost:8080/"
        },
        "id": "I7B5BH_lPfM5",
        "outputId": "2a499a1e-ff20-430c-8a97-2a6c43e8ddb1"
      },
      "execution_count": null,
      "outputs": [
        {
          "output_type": "stream",
          "name": "stdout",
          "text": [
            "\u001b[1m189/189\u001b[0m \u001b[32m━━━━━━━━━━━━━━━━━━━━\u001b[0m\u001b[37m\u001b[0m \u001b[1m0s\u001b[0m 2ms/step\n",
            "Mean Absolute Error (MAE): 0.09071142674147843\n",
            "Mean Squared Error (MSE): 0.01991124389513416\n",
            "Root Mean Squared Error (RMSE): 0.14110720709848296\n"
          ]
        }
      ]
    }
  ]
}